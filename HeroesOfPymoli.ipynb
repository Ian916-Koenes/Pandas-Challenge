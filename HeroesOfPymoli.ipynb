{
 "metadata": {
  "language_info": {
   "codemirror_mode": {
    "name": "ipython",
    "version": 3
   },
   "file_extension": ".py",
   "mimetype": "text/x-python",
   "name": "python",
   "nbconvert_exporter": "python",
   "pygments_lexer": "ipython3",
   "version": "3.8.3-final"
  },
  "orig_nbformat": 2,
  "kernelspec": {
   "name": "Python 3.8.3 64-bit ('projects': conda)",
   "display_name": "Python 3.8.3 64-bit ('projects': conda)",
   "metadata": {
    "interpreter": {
     "hash": "698a8d06f30e5fee56fabea50cf955561fabfd8588e68451d313870b540a7e00"
    }
   }
  }
 },
 "nbformat": 4,
 "nbformat_minor": 2,
 "cells": [
  {
   "cell_type": "code",
   "execution_count": 897,
   "metadata": {},
   "outputs": [
    {
     "output_type": "execute_result",
     "data": {
      "text/plain": [
       "   Purchase ID             SN  Age Gender  Item ID  \\\n",
       "0            0        Lisim78   20   Male      108   \n",
       "1            1    Lisovynya38   40   Male      143   \n",
       "2            2     Ithergue48   24   Male       92   \n",
       "3            3  Chamassasya86   24   Male      100   \n",
       "4            4      Iskosia90   23   Male      131   \n",
       "\n",
       "                                   Item Name  Price  \n",
       "0  Extraction, Quickblade Of Trembling Hands   3.53  \n",
       "1                          Frenzied Scimitar   1.56  \n",
       "2                               Final Critic   4.88  \n",
       "3                                Blindscythe   3.27  \n",
       "4                                       Fury   1.44  "
      ],
      "text/html": "<div>\n<style scoped>\n    .dataframe tbody tr th:only-of-type {\n        vertical-align: middle;\n    }\n\n    .dataframe tbody tr th {\n        vertical-align: top;\n    }\n\n    .dataframe thead th {\n        text-align: right;\n    }\n</style>\n<table border=\"1\" class=\"dataframe\">\n  <thead>\n    <tr style=\"text-align: right;\">\n      <th></th>\n      <th>Purchase ID</th>\n      <th>SN</th>\n      <th>Age</th>\n      <th>Gender</th>\n      <th>Item ID</th>\n      <th>Item Name</th>\n      <th>Price</th>\n    </tr>\n  </thead>\n  <tbody>\n    <tr>\n      <th>0</th>\n      <td>0</td>\n      <td>Lisim78</td>\n      <td>20</td>\n      <td>Male</td>\n      <td>108</td>\n      <td>Extraction, Quickblade Of Trembling Hands</td>\n      <td>3.53</td>\n    </tr>\n    <tr>\n      <th>1</th>\n      <td>1</td>\n      <td>Lisovynya38</td>\n      <td>40</td>\n      <td>Male</td>\n      <td>143</td>\n      <td>Frenzied Scimitar</td>\n      <td>1.56</td>\n    </tr>\n    <tr>\n      <th>2</th>\n      <td>2</td>\n      <td>Ithergue48</td>\n      <td>24</td>\n      <td>Male</td>\n      <td>92</td>\n      <td>Final Critic</td>\n      <td>4.88</td>\n    </tr>\n    <tr>\n      <th>3</th>\n      <td>3</td>\n      <td>Chamassasya86</td>\n      <td>24</td>\n      <td>Male</td>\n      <td>100</td>\n      <td>Blindscythe</td>\n      <td>3.27</td>\n    </tr>\n    <tr>\n      <th>4</th>\n      <td>4</td>\n      <td>Iskosia90</td>\n      <td>23</td>\n      <td>Male</td>\n      <td>131</td>\n      <td>Fury</td>\n      <td>1.44</td>\n    </tr>\n  </tbody>\n</table>\n</div>"
     },
     "metadata": {},
     "execution_count": 897
    }
   ],
   "source": [
    "import pandas as pd\n",
    "csv_path = \"Resources/purchase_data.csv\"\n",
    "Heroes_df = pd.read_csv(csv_path)\n",
    "Heroes_df.head()"
   ]
  },
  {
   "cell_type": "code",
   "execution_count": 898,
   "metadata": {},
   "outputs": [],
   "source": [
    "Heroes_set_index_df = Heroes_df.set_index([\"Purchase ID\"])"
   ]
  },
  {
   "cell_type": "code",
   "execution_count": 899,
   "metadata": {},
   "outputs": [
    {
     "output_type": "execute_result",
     "data": {
      "text/plain": [
       "                   Players  Age  Gender  Item ID  \\\n",
       "Purchase ID                                        \n",
       "0                  Lisim78   20    Male      108   \n",
       "1              Lisovynya38   40    Male      143   \n",
       "2               Ithergue48   24    Male       92   \n",
       "3            Chamassasya86   24    Male      100   \n",
       "4                Iskosia90   23    Male      131   \n",
       "...                    ...  ...     ...      ...   \n",
       "775             Aethedru70   21  Female       60   \n",
       "776                 Iral74   21    Male      164   \n",
       "777             Yathecal72   20    Male       67   \n",
       "778                Sisur91    7    Male       92   \n",
       "779              Ennrian78   24    Male       50   \n",
       "\n",
       "                                             Item Name  Price  \n",
       "Purchase ID                                                    \n",
       "0            Extraction, Quickblade Of Trembling Hands   3.53  \n",
       "1                                    Frenzied Scimitar   1.56  \n",
       "2                                         Final Critic   4.88  \n",
       "3                                          Blindscythe   3.27  \n",
       "4                                                 Fury   1.44  \n",
       "...                                                ...    ...  \n",
       "775                                               Wolf   3.54  \n",
       "776                                   Exiled Doomblade   1.63  \n",
       "777              Celeste, Incarnation of the Corrupted   3.46  \n",
       "778                                       Final Critic   4.19  \n",
       "779                                               Dawn   4.60  \n",
       "\n",
       "[780 rows x 6 columns]"
      ],
      "text/html": "<div>\n<style scoped>\n    .dataframe tbody tr th:only-of-type {\n        vertical-align: middle;\n    }\n\n    .dataframe tbody tr th {\n        vertical-align: top;\n    }\n\n    .dataframe thead th {\n        text-align: right;\n    }\n</style>\n<table border=\"1\" class=\"dataframe\">\n  <thead>\n    <tr style=\"text-align: right;\">\n      <th></th>\n      <th>Players</th>\n      <th>Age</th>\n      <th>Gender</th>\n      <th>Item ID</th>\n      <th>Item Name</th>\n      <th>Price</th>\n    </tr>\n    <tr>\n      <th>Purchase ID</th>\n      <th></th>\n      <th></th>\n      <th></th>\n      <th></th>\n      <th></th>\n      <th></th>\n    </tr>\n  </thead>\n  <tbody>\n    <tr>\n      <th>0</th>\n      <td>Lisim78</td>\n      <td>20</td>\n      <td>Male</td>\n      <td>108</td>\n      <td>Extraction, Quickblade Of Trembling Hands</td>\n      <td>3.53</td>\n    </tr>\n    <tr>\n      <th>1</th>\n      <td>Lisovynya38</td>\n      <td>40</td>\n      <td>Male</td>\n      <td>143</td>\n      <td>Frenzied Scimitar</td>\n      <td>1.56</td>\n    </tr>\n    <tr>\n      <th>2</th>\n      <td>Ithergue48</td>\n      <td>24</td>\n      <td>Male</td>\n      <td>92</td>\n      <td>Final Critic</td>\n      <td>4.88</td>\n    </tr>\n    <tr>\n      <th>3</th>\n      <td>Chamassasya86</td>\n      <td>24</td>\n      <td>Male</td>\n      <td>100</td>\n      <td>Blindscythe</td>\n      <td>3.27</td>\n    </tr>\n    <tr>\n      <th>4</th>\n      <td>Iskosia90</td>\n      <td>23</td>\n      <td>Male</td>\n      <td>131</td>\n      <td>Fury</td>\n      <td>1.44</td>\n    </tr>\n    <tr>\n      <th>...</th>\n      <td>...</td>\n      <td>...</td>\n      <td>...</td>\n      <td>...</td>\n      <td>...</td>\n      <td>...</td>\n    </tr>\n    <tr>\n      <th>775</th>\n      <td>Aethedru70</td>\n      <td>21</td>\n      <td>Female</td>\n      <td>60</td>\n      <td>Wolf</td>\n      <td>3.54</td>\n    </tr>\n    <tr>\n      <th>776</th>\n      <td>Iral74</td>\n      <td>21</td>\n      <td>Male</td>\n      <td>164</td>\n      <td>Exiled Doomblade</td>\n      <td>1.63</td>\n    </tr>\n    <tr>\n      <th>777</th>\n      <td>Yathecal72</td>\n      <td>20</td>\n      <td>Male</td>\n      <td>67</td>\n      <td>Celeste, Incarnation of the Corrupted</td>\n      <td>3.46</td>\n    </tr>\n    <tr>\n      <th>778</th>\n      <td>Sisur91</td>\n      <td>7</td>\n      <td>Male</td>\n      <td>92</td>\n      <td>Final Critic</td>\n      <td>4.19</td>\n    </tr>\n    <tr>\n      <th>779</th>\n      <td>Ennrian78</td>\n      <td>24</td>\n      <td>Male</td>\n      <td>50</td>\n      <td>Dawn</td>\n      <td>4.60</td>\n    </tr>\n  </tbody>\n</table>\n<p>780 rows × 6 columns</p>\n</div>"
     },
     "metadata": {},
     "execution_count": 899
    }
   ],
   "source": [
    "Heroes_player_renamed_df = Heroes_set_index_df.rename(columns={\"SN\": \"Players\"})\n",
    "Heroes_player_renamed_df"
   ]
  },
  {
   "cell_type": "code",
   "execution_count": 900,
   "metadata": {},
   "outputs": [
    {
     "output_type": "execute_result",
     "data": {
      "text/plain": [
       "576"
      ]
     },
     "metadata": {},
     "execution_count": 900
    }
   ],
   "source": [
    "Player_Count_df = Heroes_player_renamed_df[\"Players\"].nunique()\n",
    "Player_Count_df"
   ]
  },
  {
   "cell_type": "code",
   "execution_count": 901,
   "metadata": {},
   "outputs": [
    {
     "output_type": "execute_result",
     "data": {
      "text/plain": [
       "   Total Players\n",
       "0            576"
      ],
      "text/html": "<div>\n<style scoped>\n    .dataframe tbody tr th:only-of-type {\n        vertical-align: middle;\n    }\n\n    .dataframe tbody tr th {\n        vertical-align: top;\n    }\n\n    .dataframe thead th {\n        text-align: right;\n    }\n</style>\n<table border=\"1\" class=\"dataframe\">\n  <thead>\n    <tr style=\"text-align: right;\">\n      <th></th>\n      <th>Total Players</th>\n    </tr>\n  </thead>\n  <tbody>\n    <tr>\n      <th>0</th>\n      <td>576</td>\n    </tr>\n  </tbody>\n</table>\n</div>"
     },
     "metadata": {},
     "execution_count": 901
    }
   ],
   "source": [
    "Heroes_frame_df = pd.DataFrame({\"Total Players\": [Player_Count_df]})\n",
    "Heroes_frame_df"
   ]
  },
  {
   "cell_type": "code",
   "execution_count": 902,
   "metadata": {},
   "outputs": [],
   "source": [
    "Heroes_item_df = Heroes_player_renamed_df[\"Item Name\"].nunique()\n",
    "Heroes_average_price_df = Heroes_player_renamed_df[\"Price\"].mean()\n",
    "Heroes_item_count_df = Heroes_player_renamed_df[\"Item Name\"].count()\n",
    "Heroes_total_price_df = Heroes_player_renamed_df[\"Price\"].sum()"
   ]
  },
  {
   "cell_type": "code",
   "execution_count": 903,
   "metadata": {},
   "outputs": [
    {
     "output_type": "execute_result",
     "data": {
      "text/plain": [
       "   Number of Unique Items Average Price  Number of Purchases Total Revenue\n",
       "0                     179         $3.05                  780      $2379.77"
      ],
      "text/html": "<div>\n<style scoped>\n    .dataframe tbody tr th:only-of-type {\n        vertical-align: middle;\n    }\n\n    .dataframe tbody tr th {\n        vertical-align: top;\n    }\n\n    .dataframe thead th {\n        text-align: right;\n    }\n</style>\n<table border=\"1\" class=\"dataframe\">\n  <thead>\n    <tr style=\"text-align: right;\">\n      <th></th>\n      <th>Number of Unique Items</th>\n      <th>Average Price</th>\n      <th>Number of Purchases</th>\n      <th>Total Revenue</th>\n    </tr>\n  </thead>\n  <tbody>\n    <tr>\n      <th>0</th>\n      <td>179</td>\n      <td>$3.05</td>\n      <td>780</td>\n      <td>$2379.77</td>\n    </tr>\n  </tbody>\n</table>\n</div>"
     },
     "metadata": {},
     "execution_count": 903
    }
   ],
   "source": [
    "Heroes_summary_df = pd.DataFrame({\"Number of Unique Items\": [Heroes_item_df],\"Average Price\": [Heroes_average_price_df], \"Number of Purchases\": [Heroes_item_count_df], \"Total Revenue\": [Heroes_total_price_df]})\n",
    "Heroes_summary_df[\"Average Price\"] = Heroes_summary_df[\"Average Price\"].map(\"${:.2f}\".format)\n",
    "Heroes_summary_df[\"Total Revenue\"] = Heroes_summary_df[\"Total Revenue\"].map(\"${:.2f}\".format)\n",
    "Heroes_summary_df"
   ]
  },
  {
   "cell_type": "code",
   "execution_count": 904,
   "metadata": {},
   "outputs": [
    {
     "output_type": "execute_result",
     "data": {
      "text/plain": [
       "                   Players  Age  Gender  Item ID  \\\n",
       "Purchase ID                                        \n",
       "0                  Lisim78   20    Male      108   \n",
       "1              Lisovynya38   40    Male      143   \n",
       "2               Ithergue48   24    Male       92   \n",
       "3            Chamassasya86   24    Male      100   \n",
       "4                Iskosia90   23    Male      131   \n",
       "...                    ...  ...     ...      ...   \n",
       "773                 Hala31   21    Male       19   \n",
       "774             Jiskjask80   11    Male       92   \n",
       "775             Aethedru70   21  Female       60   \n",
       "777             Yathecal72   20    Male       67   \n",
       "778                Sisur91    7    Male       92   \n",
       "\n",
       "                                             Item Name  Price  \n",
       "Purchase ID                                                    \n",
       "0            Extraction, Quickblade Of Trembling Hands   3.53  \n",
       "1                                    Frenzied Scimitar   1.56  \n",
       "2                                         Final Critic   4.88  \n",
       "3                                          Blindscythe   3.27  \n",
       "4                                                 Fury   1.44  \n",
       "...                                                ...    ...  \n",
       "773                      Pursuit, Cudgel of Necromancy   1.02  \n",
       "774                                       Final Critic   4.19  \n",
       "775                                               Wolf   3.54  \n",
       "777              Celeste, Incarnation of the Corrupted   3.46  \n",
       "778                                       Final Critic   4.19  \n",
       "\n",
       "[576 rows x 6 columns]"
      ],
      "text/html": "<div>\n<style scoped>\n    .dataframe tbody tr th:only-of-type {\n        vertical-align: middle;\n    }\n\n    .dataframe tbody tr th {\n        vertical-align: top;\n    }\n\n    .dataframe thead th {\n        text-align: right;\n    }\n</style>\n<table border=\"1\" class=\"dataframe\">\n  <thead>\n    <tr style=\"text-align: right;\">\n      <th></th>\n      <th>Players</th>\n      <th>Age</th>\n      <th>Gender</th>\n      <th>Item ID</th>\n      <th>Item Name</th>\n      <th>Price</th>\n    </tr>\n    <tr>\n      <th>Purchase ID</th>\n      <th></th>\n      <th></th>\n      <th></th>\n      <th></th>\n      <th></th>\n      <th></th>\n    </tr>\n  </thead>\n  <tbody>\n    <tr>\n      <th>0</th>\n      <td>Lisim78</td>\n      <td>20</td>\n      <td>Male</td>\n      <td>108</td>\n      <td>Extraction, Quickblade Of Trembling Hands</td>\n      <td>3.53</td>\n    </tr>\n    <tr>\n      <th>1</th>\n      <td>Lisovynya38</td>\n      <td>40</td>\n      <td>Male</td>\n      <td>143</td>\n      <td>Frenzied Scimitar</td>\n      <td>1.56</td>\n    </tr>\n    <tr>\n      <th>2</th>\n      <td>Ithergue48</td>\n      <td>24</td>\n      <td>Male</td>\n      <td>92</td>\n      <td>Final Critic</td>\n      <td>4.88</td>\n    </tr>\n    <tr>\n      <th>3</th>\n      <td>Chamassasya86</td>\n      <td>24</td>\n      <td>Male</td>\n      <td>100</td>\n      <td>Blindscythe</td>\n      <td>3.27</td>\n    </tr>\n    <tr>\n      <th>4</th>\n      <td>Iskosia90</td>\n      <td>23</td>\n      <td>Male</td>\n      <td>131</td>\n      <td>Fury</td>\n      <td>1.44</td>\n    </tr>\n    <tr>\n      <th>...</th>\n      <td>...</td>\n      <td>...</td>\n      <td>...</td>\n      <td>...</td>\n      <td>...</td>\n      <td>...</td>\n    </tr>\n    <tr>\n      <th>773</th>\n      <td>Hala31</td>\n      <td>21</td>\n      <td>Male</td>\n      <td>19</td>\n      <td>Pursuit, Cudgel of Necromancy</td>\n      <td>1.02</td>\n    </tr>\n    <tr>\n      <th>774</th>\n      <td>Jiskjask80</td>\n      <td>11</td>\n      <td>Male</td>\n      <td>92</td>\n      <td>Final Critic</td>\n      <td>4.19</td>\n    </tr>\n    <tr>\n      <th>775</th>\n      <td>Aethedru70</td>\n      <td>21</td>\n      <td>Female</td>\n      <td>60</td>\n      <td>Wolf</td>\n      <td>3.54</td>\n    </tr>\n    <tr>\n      <th>777</th>\n      <td>Yathecal72</td>\n      <td>20</td>\n      <td>Male</td>\n      <td>67</td>\n      <td>Celeste, Incarnation of the Corrupted</td>\n      <td>3.46</td>\n    </tr>\n    <tr>\n      <th>778</th>\n      <td>Sisur91</td>\n      <td>7</td>\n      <td>Male</td>\n      <td>92</td>\n      <td>Final Critic</td>\n      <td>4.19</td>\n    </tr>\n  </tbody>\n</table>\n<p>576 rows × 6 columns</p>\n</div>"
     },
     "metadata": {},
     "execution_count": 904
    }
   ],
   "source": [
    "Names_df = Heroes_player_renamed_df.drop_duplicates(\"Players\")\n",
    "Names_df"
   ]
  },
  {
   "cell_type": "code",
   "execution_count": 905,
   "metadata": {},
   "outputs": [
    {
     "output_type": "execute_result",
     "data": {
      "text/plain": [
       "Gender\n",
       "Female                    81\n",
       "Male                     484\n",
       "Other / Non-Disclosed     11\n",
       "Name: Players, dtype: int64"
      ]
     },
     "metadata": {},
     "execution_count": 905
    }
   ],
   "source": [
    "Names_gender_df = Names_df.groupby(\"Gender\")[\"Players\"].count()\n",
    "Names_gender_df"
   ]
  },
  {
   "cell_type": "code",
   "execution_count": 906,
   "metadata": {},
   "outputs": [
    {
     "output_type": "execute_result",
     "data": {
      "text/plain": [
       "Gender\n",
       "Female                   14.062500\n",
       "Male                     84.027778\n",
       "Other / Non-Disclosed     1.909722\n",
       "Name: Players, dtype: float64"
      ]
     },
     "metadata": {},
     "execution_count": 906
    }
   ],
   "source": [
    "Gender_percentage_df = Names_gender_df / Player_Count_df *100\n",
    "Gender_percentage_df"
   ]
  },
  {
   "cell_type": "code",
   "execution_count": 907,
   "metadata": {},
   "outputs": [
    {
     "output_type": "execute_result",
     "data": {
      "text/plain": [
       "                       Total Count Percentage of Players\n",
       "Gender                                                  \n",
       "Female                          81                14.06%\n",
       "Male                           484                84.03%\n",
       "Other / Non-Disclosed           11                 1.91%"
      ],
      "text/html": "<div>\n<style scoped>\n    .dataframe tbody tr th:only-of-type {\n        vertical-align: middle;\n    }\n\n    .dataframe tbody tr th {\n        vertical-align: top;\n    }\n\n    .dataframe thead th {\n        text-align: right;\n    }\n</style>\n<table border=\"1\" class=\"dataframe\">\n  <thead>\n    <tr style=\"text-align: right;\">\n      <th></th>\n      <th>Total Count</th>\n      <th>Percentage of Players</th>\n    </tr>\n    <tr>\n      <th>Gender</th>\n      <th></th>\n      <th></th>\n    </tr>\n  </thead>\n  <tbody>\n    <tr>\n      <th>Female</th>\n      <td>81</td>\n      <td>14.06%</td>\n    </tr>\n    <tr>\n      <th>Male</th>\n      <td>484</td>\n      <td>84.03%</td>\n    </tr>\n    <tr>\n      <th>Other / Non-Disclosed</th>\n      <td>11</td>\n      <td>1.91%</td>\n    </tr>\n  </tbody>\n</table>\n</div>"
     },
     "metadata": {},
     "execution_count": 907
    }
   ],
   "source": [
    "Heroes_gender_summary_df = pd.DataFrame({ \"Total Count\": Names_gender_df, \n",
    "\"Percentage of Players\": Gender_percentage_df})\n",
    "Heroes_gender_summary_df[\"Percentage of Players\"] = Heroes_gender_summary_df[\"Percentage of Players\"].map(\"{:.2f}%\".format)\n",
    "Heroes_gender_summary_df"
   ]
  },
  {
   "cell_type": "code",
   "execution_count": 908,
   "metadata": {},
   "outputs": [
    {
     "output_type": "execute_result",
     "data": {
      "text/plain": [
       "Gender\n",
       "Female                   113\n",
       "Male                     652\n",
       "Other / Non-Disclosed     15\n",
       "Name: Players, dtype: int64"
      ]
     },
     "metadata": {},
     "execution_count": 908
    }
   ],
   "source": [
    "Prices_gender_df = Heroes_player_renamed_df.groupby(\"Gender\")[\"Players\"].count()\n",
    "Prices_gender_df"
   ]
  },
  {
   "cell_type": "code",
   "execution_count": 909,
   "metadata": {},
   "outputs": [
    {
     "output_type": "execute_result",
     "data": {
      "text/plain": [
       "Gender\n",
       "Female                   3.203009\n",
       "Male                     3.017853\n",
       "Other / Non-Disclosed    3.346000\n",
       "Name: Price, dtype: float64"
      ]
     },
     "metadata": {},
     "execution_count": 909
    }
   ],
   "source": [
    "Average_gender_purchase_price_df = Heroes_player_renamed_df.groupby(\"Gender\")[\"Price\"].mean()\n",
    "Average_gender_purchase_price_df"
   ]
  },
  {
   "cell_type": "code",
   "execution_count": 910,
   "metadata": {},
   "outputs": [
    {
     "output_type": "execute_result",
     "data": {
      "text/plain": [
       "Gender\n",
       "Female                    361.94\n",
       "Male                     1967.64\n",
       "Other / Non-Disclosed      50.19\n",
       "Name: Price, dtype: float64"
      ]
     },
     "metadata": {},
     "execution_count": 910
    }
   ],
   "source": [
    "Total_gender_purchase_price_df = Heroes_player_renamed_df.groupby(\"Gender\")[\"Price\"].sum()\n",
    "Total_gender_purchase_price_df"
   ]
  },
  {
   "cell_type": "code",
   "execution_count": 911,
   "metadata": {},
   "outputs": [
    {
     "output_type": "execute_result",
     "data": {
      "text/plain": [
       "Gender\n",
       "Female                   4.468395\n",
       "Male                     4.065372\n",
       "Other / Non-Disclosed    4.562727\n",
       "dtype: float64"
      ]
     },
     "metadata": {},
     "execution_count": 911
    }
   ],
   "source": [
    "Average_total_df = Total_gender_purchase_price_df / Names_gender_df\n",
    "Average_total_df"
   ]
  },
  {
   "cell_type": "code",
   "execution_count": 912,
   "metadata": {},
   "outputs": [
    {
     "output_type": "execute_result",
     "data": {
      "text/plain": [
       "                       Purchase Average Purchase Price Total Purchase Value  \\\n",
       "Gender                                                                        \n",
       "Female                      113                  $3.20              $361.94   \n",
       "Male                        652                  $3.02             $1967.64   \n",
       "Other / Non-Disclosed        15                  $3.35               $50.19   \n",
       "\n",
       "                      Avg Total Purchase per Person  \n",
       "Gender                                               \n",
       "Female                                        $4.47  \n",
       "Male                                          $4.07  \n",
       "Other / Non-Disclosed                         $4.56  "
      ],
      "text/html": "<div>\n<style scoped>\n    .dataframe tbody tr th:only-of-type {\n        vertical-align: middle;\n    }\n\n    .dataframe tbody tr th {\n        vertical-align: top;\n    }\n\n    .dataframe thead th {\n        text-align: right;\n    }\n</style>\n<table border=\"1\" class=\"dataframe\">\n  <thead>\n    <tr style=\"text-align: right;\">\n      <th></th>\n      <th>Purchase</th>\n      <th>Average Purchase Price</th>\n      <th>Total Purchase Value</th>\n      <th>Avg Total Purchase per Person</th>\n    </tr>\n    <tr>\n      <th>Gender</th>\n      <th></th>\n      <th></th>\n      <th></th>\n      <th></th>\n    </tr>\n  </thead>\n  <tbody>\n    <tr>\n      <th>Female</th>\n      <td>113</td>\n      <td>$3.20</td>\n      <td>$361.94</td>\n      <td>$4.47</td>\n    </tr>\n    <tr>\n      <th>Male</th>\n      <td>652</td>\n      <td>$3.02</td>\n      <td>$1967.64</td>\n      <td>$4.07</td>\n    </tr>\n    <tr>\n      <th>Other / Non-Disclosed</th>\n      <td>15</td>\n      <td>$3.35</td>\n      <td>$50.19</td>\n      <td>$4.56</td>\n    </tr>\n  </tbody>\n</table>\n</div>"
     },
     "metadata": {},
     "execution_count": 912
    }
   ],
   "source": [
    "Heroes_purchase_summary_df = pd.DataFrame({ \"Purchase\": Prices_gender_df, \"Average Purchase Price\": Average_gender_purchase_price_df, \"Total Purchase Value\": Total_gender_purchase_price_df, \"Avg Total Purchase per Person\": Average_total_df})\n",
    "Heroes_purchase_summary_df[\"Average Purchase Price\"] = Heroes_purchase_summary_df[\"Average Purchase Price\"].map(\"${:.2f}\".format)\n",
    "Heroes_purchase_summary_df[\"Total Purchase Value\"] = Heroes_purchase_summary_df[\"Total Purchase Value\"].map(\"${:.2f}\".format)\n",
    "Heroes_purchase_summary_df[\"Avg Total Purchase per Person\"] = Heroes_purchase_summary_df[\"Avg Total Purchase per Person\"].map(\"${:.2f}\".format)\n",
    "Heroes_purchase_summary_df"
   ]
  },
  {
   "cell_type": "code",
   "execution_count": 913,
   "metadata": {},
   "outputs": [
    {
     "output_type": "stream",
     "name": "stdout",
     "text": [
      "45\n7\n"
     ]
    }
   ],
   "source": [
    "print(Heroes_player_renamed_df[\"Age\"].max())\n",
    "print(Heroes_player_renamed_df[\"Age\"].min())"
   ]
  },
  {
   "cell_type": "code",
   "execution_count": 914,
   "metadata": {},
   "outputs": [],
   "source": [
    "bins = [0, 9.99, 14.99, 19.99, 24.99, 29.99, 34.99, 39.99, 45]\n",
    "group_ages = [\"<10\", \"10-14\", \"15-19\", \"20-24\", \"25-29\", \"30-34\", \"35-39\", \"40+\"]"
   ]
  },
  {
   "cell_type": "code",
   "execution_count": 915,
   "metadata": {},
   "outputs": [
    {
     "output_type": "execute_result",
     "data": {
      "text/plain": [
       "Purchase ID\n",
       "0    20-24\n",
       "1      40+\n",
       "2    20-24\n",
       "3    20-24\n",
       "4    20-24\n",
       "Name: Age, dtype: category\n",
       "Categories (8, object): [<10 < 10-14 < 15-19 < 20-24 < 25-29 < 30-34 < 35-39 < 40+]"
      ]
     },
     "metadata": {},
     "execution_count": 915
    }
   ],
   "source": [
    "pd.cut(Names_df[\"Age\"], bins, labels=group_ages).head()"
   ]
  },
  {
   "cell_type": "code",
   "execution_count": 916,
   "metadata": {},
   "outputs": [
    {
     "output_type": "execute_result",
     "data": {
      "text/plain": [
       "                   Players  Age Gender  Item ID  \\\n",
       "Purchase ID                                       \n",
       "0                  Lisim78   20   Male      108   \n",
       "1              Lisovynya38   40   Male      143   \n",
       "2               Ithergue48   24   Male       92   \n",
       "3            Chamassasya86   24   Male      100   \n",
       "4                Iskosia90   23   Male      131   \n",
       "\n",
       "                                             Item Name  Price Age Group  \n",
       "Purchase ID                                                              \n",
       "0            Extraction, Quickblade Of Trembling Hands   3.53     20-24  \n",
       "1                                    Frenzied Scimitar   1.56       40+  \n",
       "2                                         Final Critic   4.88     20-24  \n",
       "3                                          Blindscythe   3.27     20-24  \n",
       "4                                                 Fury   1.44     20-24  "
      ],
      "text/html": "<div>\n<style scoped>\n    .dataframe tbody tr th:only-of-type {\n        vertical-align: middle;\n    }\n\n    .dataframe tbody tr th {\n        vertical-align: top;\n    }\n\n    .dataframe thead th {\n        text-align: right;\n    }\n</style>\n<table border=\"1\" class=\"dataframe\">\n  <thead>\n    <tr style=\"text-align: right;\">\n      <th></th>\n      <th>Players</th>\n      <th>Age</th>\n      <th>Gender</th>\n      <th>Item ID</th>\n      <th>Item Name</th>\n      <th>Price</th>\n      <th>Age Group</th>\n    </tr>\n    <tr>\n      <th>Purchase ID</th>\n      <th></th>\n      <th></th>\n      <th></th>\n      <th></th>\n      <th></th>\n      <th></th>\n      <th></th>\n    </tr>\n  </thead>\n  <tbody>\n    <tr>\n      <th>0</th>\n      <td>Lisim78</td>\n      <td>20</td>\n      <td>Male</td>\n      <td>108</td>\n      <td>Extraction, Quickblade Of Trembling Hands</td>\n      <td>3.53</td>\n      <td>20-24</td>\n    </tr>\n    <tr>\n      <th>1</th>\n      <td>Lisovynya38</td>\n      <td>40</td>\n      <td>Male</td>\n      <td>143</td>\n      <td>Frenzied Scimitar</td>\n      <td>1.56</td>\n      <td>40+</td>\n    </tr>\n    <tr>\n      <th>2</th>\n      <td>Ithergue48</td>\n      <td>24</td>\n      <td>Male</td>\n      <td>92</td>\n      <td>Final Critic</td>\n      <td>4.88</td>\n      <td>20-24</td>\n    </tr>\n    <tr>\n      <th>3</th>\n      <td>Chamassasya86</td>\n      <td>24</td>\n      <td>Male</td>\n      <td>100</td>\n      <td>Blindscythe</td>\n      <td>3.27</td>\n      <td>20-24</td>\n    </tr>\n    <tr>\n      <th>4</th>\n      <td>Iskosia90</td>\n      <td>23</td>\n      <td>Male</td>\n      <td>131</td>\n      <td>Fury</td>\n      <td>1.44</td>\n      <td>20-24</td>\n    </tr>\n  </tbody>\n</table>\n</div>"
     },
     "metadata": {},
     "execution_count": 916
    }
   ],
   "source": [
    "Names_df[\"Age Group\"] = pd.cut(Names_df[\"Age\"], bins, labels=group_ages)\n",
    "Names_df.head()"
   ]
  },
  {
   "cell_type": "code",
   "execution_count": 917,
   "metadata": {},
   "outputs": [
    {
     "output_type": "stream",
     "name": "stdout",
     "text": [
      "Age Group\n<10       17\n10-14     22\n15-19    107\n20-24    258\n25-29     77\n30-34     52\n35-39     31\n40+       12\nName: Players, dtype: int64\nAge Group\n<10      0.029514\n10-14    0.038194\n15-19    0.185764\n20-24    0.447917\n25-29    0.133681\n30-34    0.090278\n35-39    0.053819\n40+      0.020833\nName: Players, dtype: float64\n"
     ]
    }
   ],
   "source": [
    "Heroes_age_group = Names_df.groupby(\"Age Group\")\n",
    "Heroes_age_dataframe_df = (Heroes_age_group[\"Players\"].nunique())\n",
    "print(Heroes_age_dataframe_df)\n",
    "Heroes_age_percentage_df = Heroes_age_dataframe_df/ Player_Count_df\n",
    "print(Heroes_age_percentage_df)"
   ]
  },
  {
   "cell_type": "code",
   "execution_count": 918,
   "metadata": {},
   "outputs": [
    {
     "output_type": "execute_result",
     "data": {
      "text/plain": [
       "           Total Count  Percentage of Players\n",
       "Age Group                                    \n",
       "<10                 17               0.029514\n",
       "10-14               22               0.038194\n",
       "15-19              107               0.185764\n",
       "20-24              258               0.447917\n",
       "25-29               77               0.133681\n",
       "30-34               52               0.090278\n",
       "35-39               31               0.053819\n",
       "40+                 12               0.020833"
      ],
      "text/html": "<div>\n<style scoped>\n    .dataframe tbody tr th:only-of-type {\n        vertical-align: middle;\n    }\n\n    .dataframe tbody tr th {\n        vertical-align: top;\n    }\n\n    .dataframe thead th {\n        text-align: right;\n    }\n</style>\n<table border=\"1\" class=\"dataframe\">\n  <thead>\n    <tr style=\"text-align: right;\">\n      <th></th>\n      <th>Total Count</th>\n      <th>Percentage of Players</th>\n    </tr>\n    <tr>\n      <th>Age Group</th>\n      <th></th>\n      <th></th>\n    </tr>\n  </thead>\n  <tbody>\n    <tr>\n      <th>&lt;10</th>\n      <td>17</td>\n      <td>0.029514</td>\n    </tr>\n    <tr>\n      <th>10-14</th>\n      <td>22</td>\n      <td>0.038194</td>\n    </tr>\n    <tr>\n      <th>15-19</th>\n      <td>107</td>\n      <td>0.185764</td>\n    </tr>\n    <tr>\n      <th>20-24</th>\n      <td>258</td>\n      <td>0.447917</td>\n    </tr>\n    <tr>\n      <th>25-29</th>\n      <td>77</td>\n      <td>0.133681</td>\n    </tr>\n    <tr>\n      <th>30-34</th>\n      <td>52</td>\n      <td>0.090278</td>\n    </tr>\n    <tr>\n      <th>35-39</th>\n      <td>31</td>\n      <td>0.053819</td>\n    </tr>\n    <tr>\n      <th>40+</th>\n      <td>12</td>\n      <td>0.020833</td>\n    </tr>\n  </tbody>\n</table>\n</div>"
     },
     "metadata": {},
     "execution_count": 918
    }
   ],
   "source": [
    "Heroes_age_summary_df = pd.DataFrame({\"Total Count\": Heroes_age_dataframe_df, \"Percentage of Players\": Heroes_age_percentage_df})\n",
    "Heroes_age_summary_df"
   ]
  },
  {
   "cell_type": "code",
   "execution_count": 919,
   "metadata": {},
   "outputs": [
    {
     "output_type": "execute_result",
     "data": {
      "text/plain": [
       "Purchase ID\n",
       "0    20-24\n",
       "1      40+\n",
       "2    20-24\n",
       "3    20-24\n",
       "4    20-24\n",
       "Name: Age, dtype: category\n",
       "Categories (8, object): [<10 < 10-14 < 15-19 < 20-24 < 25-29 < 30-34 < 35-39 < 40+]"
      ]
     },
     "metadata": {},
     "execution_count": 919
    }
   ],
   "source": [
    "pd.cut(Heroes_player_renamed_df[\"Age\"], bins, labels=group_ages).head()"
   ]
  },
  {
   "cell_type": "code",
   "execution_count": 920,
   "metadata": {},
   "outputs": [
    {
     "output_type": "execute_result",
     "data": {
      "text/plain": [
       "                   Players  Age Gender  Item ID  \\\n",
       "Purchase ID                                       \n",
       "0                  Lisim78   20   Male      108   \n",
       "1              Lisovynya38   40   Male      143   \n",
       "2               Ithergue48   24   Male       92   \n",
       "3            Chamassasya86   24   Male      100   \n",
       "4                Iskosia90   23   Male      131   \n",
       "\n",
       "                                             Item Name  Price Age Group  \n",
       "Purchase ID                                                              \n",
       "0            Extraction, Quickblade Of Trembling Hands   3.53     20-24  \n",
       "1                                    Frenzied Scimitar   1.56       40+  \n",
       "2                                         Final Critic   4.88     20-24  \n",
       "3                                          Blindscythe   3.27     20-24  \n",
       "4                                                 Fury   1.44     20-24  "
      ],
      "text/html": "<div>\n<style scoped>\n    .dataframe tbody tr th:only-of-type {\n        vertical-align: middle;\n    }\n\n    .dataframe tbody tr th {\n        vertical-align: top;\n    }\n\n    .dataframe thead th {\n        text-align: right;\n    }\n</style>\n<table border=\"1\" class=\"dataframe\">\n  <thead>\n    <tr style=\"text-align: right;\">\n      <th></th>\n      <th>Players</th>\n      <th>Age</th>\n      <th>Gender</th>\n      <th>Item ID</th>\n      <th>Item Name</th>\n      <th>Price</th>\n      <th>Age Group</th>\n    </tr>\n    <tr>\n      <th>Purchase ID</th>\n      <th></th>\n      <th></th>\n      <th></th>\n      <th></th>\n      <th></th>\n      <th></th>\n      <th></th>\n    </tr>\n  </thead>\n  <tbody>\n    <tr>\n      <th>0</th>\n      <td>Lisim78</td>\n      <td>20</td>\n      <td>Male</td>\n      <td>108</td>\n      <td>Extraction, Quickblade Of Trembling Hands</td>\n      <td>3.53</td>\n      <td>20-24</td>\n    </tr>\n    <tr>\n      <th>1</th>\n      <td>Lisovynya38</td>\n      <td>40</td>\n      <td>Male</td>\n      <td>143</td>\n      <td>Frenzied Scimitar</td>\n      <td>1.56</td>\n      <td>40+</td>\n    </tr>\n    <tr>\n      <th>2</th>\n      <td>Ithergue48</td>\n      <td>24</td>\n      <td>Male</td>\n      <td>92</td>\n      <td>Final Critic</td>\n      <td>4.88</td>\n      <td>20-24</td>\n    </tr>\n    <tr>\n      <th>3</th>\n      <td>Chamassasya86</td>\n      <td>24</td>\n      <td>Male</td>\n      <td>100</td>\n      <td>Blindscythe</td>\n      <td>3.27</td>\n      <td>20-24</td>\n    </tr>\n    <tr>\n      <th>4</th>\n      <td>Iskosia90</td>\n      <td>23</td>\n      <td>Male</td>\n      <td>131</td>\n      <td>Fury</td>\n      <td>1.44</td>\n      <td>20-24</td>\n    </tr>\n  </tbody>\n</table>\n</div>"
     },
     "metadata": {},
     "execution_count": 920
    }
   ],
   "source": [
    "Heroes_player_renamed_df[\"Age Group\"] = pd.cut(Heroes_player_renamed_df[\"Age\"], bins, labels=group_ages)\n",
    "Heroes_player_renamed_df.head()"
   ]
  },
  {
   "cell_type": "code",
   "execution_count": 921,
   "metadata": {},
   "outputs": [
    {
     "output_type": "stream",
     "name": "stdout",
     "text": [
      "Age Group\n<10       23\n10-14     28\n15-19    136\n20-24    365\n25-29    101\n30-34     73\n35-39     41\n40+       13\nName: Price, dtype: int64\n"
     ]
    }
   ],
   "source": [
    "Heroes_purchase_age_group = Heroes_player_renamed_df.groupby(\"Age Group\")\n",
    "Heroes_purchase_age_dataframe_df = (Heroes_purchase_age_group[\"Price\"].count())\n",
    "print(Heroes_purchase_age_dataframe_df)"
   ]
  },
  {
   "cell_type": "code",
   "execution_count": 922,
   "metadata": {},
   "outputs": [
    {
     "output_type": "execute_result",
     "data": {
      "text/plain": [
       "Age Group\n",
       "<10      3.353478\n",
       "10-14    2.956429\n",
       "15-19    3.035956\n",
       "20-24    3.052219\n",
       "25-29    2.900990\n",
       "30-34    2.931507\n",
       "35-39    3.601707\n",
       "40+      2.941538\n",
       "Name: Price, dtype: float64"
      ]
     },
     "metadata": {},
     "execution_count": 922
    }
   ],
   "source": [
    "Average_age_purchase_price_df = Heroes_player_renamed_df.groupby(\"Age Group\")[\"Price\"].mean()\n",
    "Average_age_purchase_price_df"
   ]
  },
  {
   "cell_type": "code",
   "execution_count": 923,
   "metadata": {},
   "outputs": [
    {
     "output_type": "execute_result",
     "data": {
      "text/plain": [
       "Age Group\n",
       "<10        77.13\n",
       "10-14      82.78\n",
       "15-19     412.89\n",
       "20-24    1114.06\n",
       "25-29     293.00\n",
       "30-34     214.00\n",
       "35-39     147.67\n",
       "40+        38.24\n",
       "Name: Price, dtype: float64"
      ]
     },
     "metadata": {},
     "execution_count": 923
    }
   ],
   "source": [
    "Total_age_purchase_price_df = Heroes_player_renamed_df.groupby(\"Age Group\")[\"Price\"].sum()\n",
    "Total_age_purchase_price_df"
   ]
  },
  {
   "cell_type": "code",
   "execution_count": 924,
   "metadata": {},
   "outputs": [
    {
     "output_type": "execute_result",
     "data": {
      "text/plain": [
       "Age Group\n",
       "<10      4.537059\n",
       "10-14    3.762727\n",
       "15-19    3.858785\n",
       "20-24    4.318062\n",
       "25-29    3.805195\n",
       "30-34    4.115385\n",
       "35-39    4.763548\n",
       "40+      3.186667\n",
       "dtype: float64"
      ]
     },
     "metadata": {},
     "execution_count": 924
    }
   ],
   "source": [
    "Average_total_age_purchase_df = Total_age_purchase_price_df / Heroes_age_dataframe_df\n",
    "Average_total_age_purchase_df"
   ]
  },
  {
   "cell_type": "code",
   "execution_count": 932,
   "metadata": {},
   "outputs": [
    {
     "output_type": "execute_result",
     "data": {
      "text/plain": [
       "           Purchase Count Average Purchase Price Total Purchase Value  \\\n",
       "Age Group                                                               \n",
       "<10                    23                  $3.35               $77.13   \n",
       "10-14                  28                  $2.96               $82.78   \n",
       "15-19                 136                  $3.04              $412.89   \n",
       "20-24                 365                  $3.05             $1114.06   \n",
       "25-29                 101                  $2.90              $293.00   \n",
       "30-34                  73                  $2.93              $214.00   \n",
       "35-39                  41                  $3.60              $147.67   \n",
       "40+                    13                  $2.94               $38.24   \n",
       "\n",
       "          Avg Total Purchase per Person  \n",
       "Age Group                                \n",
       "<10                               $4.54  \n",
       "10-14                             $3.76  \n",
       "15-19                             $3.86  \n",
       "20-24                             $4.32  \n",
       "25-29                             $3.81  \n",
       "30-34                             $4.12  \n",
       "35-39                             $4.76  \n",
       "40+                               $3.19  "
      ],
      "text/html": "<div>\n<style scoped>\n    .dataframe tbody tr th:only-of-type {\n        vertical-align: middle;\n    }\n\n    .dataframe tbody tr th {\n        vertical-align: top;\n    }\n\n    .dataframe thead th {\n        text-align: right;\n    }\n</style>\n<table border=\"1\" class=\"dataframe\">\n  <thead>\n    <tr style=\"text-align: right;\">\n      <th></th>\n      <th>Purchase Count</th>\n      <th>Average Purchase Price</th>\n      <th>Total Purchase Value</th>\n      <th>Avg Total Purchase per Person</th>\n    </tr>\n    <tr>\n      <th>Age Group</th>\n      <th></th>\n      <th></th>\n      <th></th>\n      <th></th>\n    </tr>\n  </thead>\n  <tbody>\n    <tr>\n      <th>&lt;10</th>\n      <td>23</td>\n      <td>$3.35</td>\n      <td>$77.13</td>\n      <td>$4.54</td>\n    </tr>\n    <tr>\n      <th>10-14</th>\n      <td>28</td>\n      <td>$2.96</td>\n      <td>$82.78</td>\n      <td>$3.76</td>\n    </tr>\n    <tr>\n      <th>15-19</th>\n      <td>136</td>\n      <td>$3.04</td>\n      <td>$412.89</td>\n      <td>$3.86</td>\n    </tr>\n    <tr>\n      <th>20-24</th>\n      <td>365</td>\n      <td>$3.05</td>\n      <td>$1114.06</td>\n      <td>$4.32</td>\n    </tr>\n    <tr>\n      <th>25-29</th>\n      <td>101</td>\n      <td>$2.90</td>\n      <td>$293.00</td>\n      <td>$3.81</td>\n    </tr>\n    <tr>\n      <th>30-34</th>\n      <td>73</td>\n      <td>$2.93</td>\n      <td>$214.00</td>\n      <td>$4.12</td>\n    </tr>\n    <tr>\n      <th>35-39</th>\n      <td>41</td>\n      <td>$3.60</td>\n      <td>$147.67</td>\n      <td>$4.76</td>\n    </tr>\n    <tr>\n      <th>40+</th>\n      <td>13</td>\n      <td>$2.94</td>\n      <td>$38.24</td>\n      <td>$3.19</td>\n    </tr>\n  </tbody>\n</table>\n</div>"
     },
     "metadata": {},
     "execution_count": 932
    }
   ],
   "source": [
    "Heroes_purchase_age_summary_df = pd.DataFrame({\"Purchase Count\": Heroes_purchase_age_dataframe_df, \"Average Purchase Price\": Average_age_purchase_price_df, \"Total Purchase Value\": Total_age_purchase_price_df, \"Avg Total Purchase per Person\": Average_total_age_purchase_df})\n",
    "Heroes_purchase_age_summary_df[\"Average Purchase Price\"] = Heroes_purchase_age_summary_df[\"Average Purchase Price\"].map(\"${:.2f}\".format)\n",
    "Heroes_purchase_age_summary_df[\"Total Purchase Value\"] = Heroes_purchase_age_summary_df[\"Total Purchase Value\"].map(\"${:.2f}\".format)\n",
    "Heroes_purchase_age_summary_df[\"Avg Total Purchase per Person\"] = Heroes_purchase_age_summary_df[\"Avg Total Purchase per Person\"].map(\"${:.2f}\".format)\n",
    "Heroes_purchase_age_summary_df"
   ]
  },
  {
   "cell_type": "code",
   "execution_count": 926,
   "metadata": {},
   "outputs": [
    {
     "output_type": "execute_result",
     "data": {
      "text/plain": [
       "               Purchase ID  Age  Item ID  Price\n",
       "SN                                             \n",
       "Adairialis76           467   16      123   2.28\n",
       "Adastirin33            142   35      175   4.48\n",
       "Aeda94                 388   17      128   4.91\n",
       "Aela59                  28   21      119   4.32\n",
       "Aelaria33              630   23      171   1.79\n",
       "...                    ...  ...      ...    ...\n",
       "Yathecal82            1400   60      241   6.22\n",
       "Yathedeu43             688   44      143   6.02\n",
       "Yoishirrala98          572   17      145   4.58\n",
       "Zhisrisu83             195   20       85   7.89\n",
       "Zontibe81             1019   63      247   8.03\n",
       "\n",
       "[576 rows x 4 columns]"
      ],
      "text/html": "<div>\n<style scoped>\n    .dataframe tbody tr th:only-of-type {\n        vertical-align: middle;\n    }\n\n    .dataframe tbody tr th {\n        vertical-align: top;\n    }\n\n    .dataframe thead th {\n        text-align: right;\n    }\n</style>\n<table border=\"1\" class=\"dataframe\">\n  <thead>\n    <tr style=\"text-align: right;\">\n      <th></th>\n      <th>Purchase ID</th>\n      <th>Age</th>\n      <th>Item ID</th>\n      <th>Price</th>\n    </tr>\n    <tr>\n      <th>SN</th>\n      <th></th>\n      <th></th>\n      <th></th>\n      <th></th>\n    </tr>\n  </thead>\n  <tbody>\n    <tr>\n      <th>Adairialis76</th>\n      <td>467</td>\n      <td>16</td>\n      <td>123</td>\n      <td>2.28</td>\n    </tr>\n    <tr>\n      <th>Adastirin33</th>\n      <td>142</td>\n      <td>35</td>\n      <td>175</td>\n      <td>4.48</td>\n    </tr>\n    <tr>\n      <th>Aeda94</th>\n      <td>388</td>\n      <td>17</td>\n      <td>128</td>\n      <td>4.91</td>\n    </tr>\n    <tr>\n      <th>Aela59</th>\n      <td>28</td>\n      <td>21</td>\n      <td>119</td>\n      <td>4.32</td>\n    </tr>\n    <tr>\n      <th>Aelaria33</th>\n      <td>630</td>\n      <td>23</td>\n      <td>171</td>\n      <td>1.79</td>\n    </tr>\n    <tr>\n      <th>...</th>\n      <td>...</td>\n      <td>...</td>\n      <td>...</td>\n      <td>...</td>\n    </tr>\n    <tr>\n      <th>Yathecal82</th>\n      <td>1400</td>\n      <td>60</td>\n      <td>241</td>\n      <td>6.22</td>\n    </tr>\n    <tr>\n      <th>Yathedeu43</th>\n      <td>688</td>\n      <td>44</td>\n      <td>143</td>\n      <td>6.02</td>\n    </tr>\n    <tr>\n      <th>Yoishirrala98</th>\n      <td>572</td>\n      <td>17</td>\n      <td>145</td>\n      <td>4.58</td>\n    </tr>\n    <tr>\n      <th>Zhisrisu83</th>\n      <td>195</td>\n      <td>20</td>\n      <td>85</td>\n      <td>7.89</td>\n    </tr>\n    <tr>\n      <th>Zontibe81</th>\n      <td>1019</td>\n      <td>63</td>\n      <td>247</td>\n      <td>8.03</td>\n    </tr>\n  </tbody>\n</table>\n<p>576 rows × 4 columns</p>\n</div>"
     },
     "metadata": {},
     "execution_count": 926
    }
   ],
   "source": [
    "Heroes_grouped_SN_df = Heroes_df.groupby(by=[\"SN\"]).sum()\n",
    "Heroes_grouped_SN_df"
   ]
  },
  {
   "cell_type": "code",
   "execution_count": 927,
   "metadata": {},
   "outputs": [
    {
     "output_type": "execute_result",
     "data": {
      "text/plain": [
       "             Purchase ID  Age  Item ID  Price\n",
       "SN                                           \n",
       "Lisosia93           1630  125      442  18.96\n",
       "Idastidru52         1999   96      527  15.45\n",
       "Chamjask73          1306   66      339  13.83\n",
       "Iral74              2285   84      518  13.62\n",
       "Iskadarya95          713   60      321  13.10\n",
       "...                  ...  ...      ...    ...\n",
       "Ililsasya43          702   19       12   1.02\n",
       "Irilis75             582   20       19   1.02\n",
       "Aidai61              282   21      155   1.01\n",
       "Chanirra79           586   23      155   1.01\n",
       "Alo38                 63   20      125   1.00\n",
       "\n",
       "[576 rows x 4 columns]"
      ],
      "text/html": "<div>\n<style scoped>\n    .dataframe tbody tr th:only-of-type {\n        vertical-align: middle;\n    }\n\n    .dataframe tbody tr th {\n        vertical-align: top;\n    }\n\n    .dataframe thead th {\n        text-align: right;\n    }\n</style>\n<table border=\"1\" class=\"dataframe\">\n  <thead>\n    <tr style=\"text-align: right;\">\n      <th></th>\n      <th>Purchase ID</th>\n      <th>Age</th>\n      <th>Item ID</th>\n      <th>Price</th>\n    </tr>\n    <tr>\n      <th>SN</th>\n      <th></th>\n      <th></th>\n      <th></th>\n      <th></th>\n    </tr>\n  </thead>\n  <tbody>\n    <tr>\n      <th>Lisosia93</th>\n      <td>1630</td>\n      <td>125</td>\n      <td>442</td>\n      <td>18.96</td>\n    </tr>\n    <tr>\n      <th>Idastidru52</th>\n      <td>1999</td>\n      <td>96</td>\n      <td>527</td>\n      <td>15.45</td>\n    </tr>\n    <tr>\n      <th>Chamjask73</th>\n      <td>1306</td>\n      <td>66</td>\n      <td>339</td>\n      <td>13.83</td>\n    </tr>\n    <tr>\n      <th>Iral74</th>\n      <td>2285</td>\n      <td>84</td>\n      <td>518</td>\n      <td>13.62</td>\n    </tr>\n    <tr>\n      <th>Iskadarya95</th>\n      <td>713</td>\n      <td>60</td>\n      <td>321</td>\n      <td>13.10</td>\n    </tr>\n    <tr>\n      <th>...</th>\n      <td>...</td>\n      <td>...</td>\n      <td>...</td>\n      <td>...</td>\n    </tr>\n    <tr>\n      <th>Ililsasya43</th>\n      <td>702</td>\n      <td>19</td>\n      <td>12</td>\n      <td>1.02</td>\n    </tr>\n    <tr>\n      <th>Irilis75</th>\n      <td>582</td>\n      <td>20</td>\n      <td>19</td>\n      <td>1.02</td>\n    </tr>\n    <tr>\n      <th>Aidai61</th>\n      <td>282</td>\n      <td>21</td>\n      <td>155</td>\n      <td>1.01</td>\n    </tr>\n    <tr>\n      <th>Chanirra79</th>\n      <td>586</td>\n      <td>23</td>\n      <td>155</td>\n      <td>1.01</td>\n    </tr>\n    <tr>\n      <th>Alo38</th>\n      <td>63</td>\n      <td>20</td>\n      <td>125</td>\n      <td>1.00</td>\n    </tr>\n  </tbody>\n</table>\n<p>576 rows × 4 columns</p>\n</div>"
     },
     "metadata": {},
     "execution_count": 927
    }
   ],
   "source": [
    "Heroes_sorted_df = Heroes_grouped_SN_df.sort_values(\"Price\",ascending=False)\n",
    "Heroes_sorted_df"
   ]
  },
  {
   "cell_type": "code",
   "execution_count": 928,
   "metadata": {},
   "outputs": [
    {
     "output_type": "stream",
     "name": "stdout",
     "text": [
      "             Purchase ID  Age  Item ID  Price\nSN                                           \nLisosia93           1630  125      442  18.96\nIdastidru52         1999   96      527  15.45\nChamjask73          1306   66      339  13.83\nIral74              2285   84      518  13.62\nIskadarya95          713   60      321  13.10\n"
     ]
    }
   ],
   "source": [
    "Top_heroes_spenders_df = Heroes_sorted_df.iloc[0:5]\n",
    "print(Top_heroes_spenders_df)"
   ]
  },
  {
   "cell_type": "code",
   "execution_count": 929,
   "metadata": {},
   "outputs": [
    {
     "output_type": "execute_result",
     "data": {
      "text/plain": [
       "     Purchase ID            SN  Age  Gender  Item ID  \\\n",
       "17            17     Zontibe81   21    Male      161   \n",
       "442          442     Zontibe81   21    Male       84   \n",
       "560          560     Zontibe81   21    Male        2   \n",
       "141          141    Zhisrisu83   10    Male       60   \n",
       "54            54    Zhisrisu83   10    Male       25   \n",
       "..           ...           ...  ...     ...      ...   \n",
       "630          630     Aelaria33   23    Male      171   \n",
       "28            28        Aela59   21    Male      119   \n",
       "388          388        Aeda94   17    Male      128   \n",
       "142          142   Adastirin33   35  Female      175   \n",
       "467          467  Adairialis76   16    Male      123   \n",
       "\n",
       "                                     Item Name  Price  \n",
       "17                                      Devine   1.76  \n",
       "442                                 Arcane Gem   3.79  \n",
       "560                                    Verdict   2.48  \n",
       "141                                       Wolf   3.54  \n",
       "54                                   Hero Cane   4.35  \n",
       "..                                         ...    ...  \n",
       "630                                    Scalpel   1.79  \n",
       "28   Stormbringer, Dark Blade of Ending Misery   4.32  \n",
       "388              Blazeguard, Reach of Eternity   4.91  \n",
       "142                 Woeful Adamantite Claymore   4.48  \n",
       "467                          Twilight's Carver   2.28  \n",
       "\n",
       "[780 rows x 7 columns]"
      ],
      "text/html": "<div>\n<style scoped>\n    .dataframe tbody tr th:only-of-type {\n        vertical-align: middle;\n    }\n\n    .dataframe tbody tr th {\n        vertical-align: top;\n    }\n\n    .dataframe thead th {\n        text-align: right;\n    }\n</style>\n<table border=\"1\" class=\"dataframe\">\n  <thead>\n    <tr style=\"text-align: right;\">\n      <th></th>\n      <th>Purchase ID</th>\n      <th>SN</th>\n      <th>Age</th>\n      <th>Gender</th>\n      <th>Item ID</th>\n      <th>Item Name</th>\n      <th>Price</th>\n    </tr>\n  </thead>\n  <tbody>\n    <tr>\n      <th>17</th>\n      <td>17</td>\n      <td>Zontibe81</td>\n      <td>21</td>\n      <td>Male</td>\n      <td>161</td>\n      <td>Devine</td>\n      <td>1.76</td>\n    </tr>\n    <tr>\n      <th>442</th>\n      <td>442</td>\n      <td>Zontibe81</td>\n      <td>21</td>\n      <td>Male</td>\n      <td>84</td>\n      <td>Arcane Gem</td>\n      <td>3.79</td>\n    </tr>\n    <tr>\n      <th>560</th>\n      <td>560</td>\n      <td>Zontibe81</td>\n      <td>21</td>\n      <td>Male</td>\n      <td>2</td>\n      <td>Verdict</td>\n      <td>2.48</td>\n    </tr>\n    <tr>\n      <th>141</th>\n      <td>141</td>\n      <td>Zhisrisu83</td>\n      <td>10</td>\n      <td>Male</td>\n      <td>60</td>\n      <td>Wolf</td>\n      <td>3.54</td>\n    </tr>\n    <tr>\n      <th>54</th>\n      <td>54</td>\n      <td>Zhisrisu83</td>\n      <td>10</td>\n      <td>Male</td>\n      <td>25</td>\n      <td>Hero Cane</td>\n      <td>4.35</td>\n    </tr>\n    <tr>\n      <th>...</th>\n      <td>...</td>\n      <td>...</td>\n      <td>...</td>\n      <td>...</td>\n      <td>...</td>\n      <td>...</td>\n      <td>...</td>\n    </tr>\n    <tr>\n      <th>630</th>\n      <td>630</td>\n      <td>Aelaria33</td>\n      <td>23</td>\n      <td>Male</td>\n      <td>171</td>\n      <td>Scalpel</td>\n      <td>1.79</td>\n    </tr>\n    <tr>\n      <th>28</th>\n      <td>28</td>\n      <td>Aela59</td>\n      <td>21</td>\n      <td>Male</td>\n      <td>119</td>\n      <td>Stormbringer, Dark Blade of Ending Misery</td>\n      <td>4.32</td>\n    </tr>\n    <tr>\n      <th>388</th>\n      <td>388</td>\n      <td>Aeda94</td>\n      <td>17</td>\n      <td>Male</td>\n      <td>128</td>\n      <td>Blazeguard, Reach of Eternity</td>\n      <td>4.91</td>\n    </tr>\n    <tr>\n      <th>142</th>\n      <td>142</td>\n      <td>Adastirin33</td>\n      <td>35</td>\n      <td>Female</td>\n      <td>175</td>\n      <td>Woeful Adamantite Claymore</td>\n      <td>4.48</td>\n    </tr>\n    <tr>\n      <th>467</th>\n      <td>467</td>\n      <td>Adairialis76</td>\n      <td>16</td>\n      <td>Male</td>\n      <td>123</td>\n      <td>Twilight's Carver</td>\n      <td>2.28</td>\n    </tr>\n  </tbody>\n</table>\n<p>780 rows × 7 columns</p>\n</div>"
     },
     "metadata": {},
     "execution_count": 929
    }
   ],
   "source": [
    "Heroes_players_sorted_df = Heroes_df.sort_values(\"SN\",ascending=False)\n",
    "Heroes_players_sorted_df"
   ]
  },
  {
   "cell_type": "code",
   "execution_count": 930,
   "metadata": {},
   "outputs": [
    {
     "output_type": "execute_result",
     "data": {
      "text/plain": [
       "SN\n",
       "Adairialis76     1\n",
       "Adastirin33      1\n",
       "Aeda94           1\n",
       "Aela59           1\n",
       "Aelaria33        1\n",
       "                ..\n",
       "Yathecal82       3\n",
       "Yathedeu43       2\n",
       "Yoishirrala98    1\n",
       "Zhisrisu83       2\n",
       "Zontibe81        3\n",
       "Length: 576, dtype: int64"
      ]
     },
     "metadata": {},
     "execution_count": 930
    }
   ],
   "source": [
    "Heroes_players_count_df = Heroes_players_sorted_df.pivot_table(index=['SN'], aggfunc='size')\n",
    "Heroes_players_count_df"
   ]
  },
  {
   "cell_type": "code",
   "execution_count": null,
   "metadata": {},
   "outputs": [],
   "source": []
  }
 ]
}