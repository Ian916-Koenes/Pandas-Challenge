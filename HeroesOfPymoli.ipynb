{
 "metadata": {
  "language_info": {
   "codemirror_mode": {
    "name": "ipython",
    "version": 3
   },
   "file_extension": ".py",
   "mimetype": "text/x-python",
   "name": "python",
   "nbconvert_exporter": "python",
   "pygments_lexer": "ipython3",
   "version": "3.8.3-final"
  },
  "orig_nbformat": 2,
  "kernelspec": {
   "name": "Python 3.8.3 64-bit ('projects': conda)",
   "display_name": "Python 3.8.3 64-bit ('projects': conda)",
   "metadata": {
    "interpreter": {
     "hash": "698a8d06f30e5fee56fabea50cf955561fabfd8588e68451d313870b540a7e00"
    }
   }
  }
 },
 "nbformat": 4,
 "nbformat_minor": 2,
 "cells": [
  {
   "cell_type": "code",
   "execution_count": 593,
   "metadata": {},
   "outputs": [
    {
     "output_type": "execute_result",
     "data": {
      "text/plain": [
       "   Purchase ID             SN  Age Gender  Item ID  \\\n",
       "0            0        Lisim78   20   Male      108   \n",
       "1            1    Lisovynya38   40   Male      143   \n",
       "2            2     Ithergue48   24   Male       92   \n",
       "3            3  Chamassasya86   24   Male      100   \n",
       "4            4      Iskosia90   23   Male      131   \n",
       "\n",
       "                                   Item Name  Price  \n",
       "0  Extraction, Quickblade Of Trembling Hands   3.53  \n",
       "1                          Frenzied Scimitar   1.56  \n",
       "2                               Final Critic   4.88  \n",
       "3                                Blindscythe   3.27  \n",
       "4                                       Fury   1.44  "
      ],
      "text/html": "<div>\n<style scoped>\n    .dataframe tbody tr th:only-of-type {\n        vertical-align: middle;\n    }\n\n    .dataframe tbody tr th {\n        vertical-align: top;\n    }\n\n    .dataframe thead th {\n        text-align: right;\n    }\n</style>\n<table border=\"1\" class=\"dataframe\">\n  <thead>\n    <tr style=\"text-align: right;\">\n      <th></th>\n      <th>Purchase ID</th>\n      <th>SN</th>\n      <th>Age</th>\n      <th>Gender</th>\n      <th>Item ID</th>\n      <th>Item Name</th>\n      <th>Price</th>\n    </tr>\n  </thead>\n  <tbody>\n    <tr>\n      <th>0</th>\n      <td>0</td>\n      <td>Lisim78</td>\n      <td>20</td>\n      <td>Male</td>\n      <td>108</td>\n      <td>Extraction, Quickblade Of Trembling Hands</td>\n      <td>3.53</td>\n    </tr>\n    <tr>\n      <th>1</th>\n      <td>1</td>\n      <td>Lisovynya38</td>\n      <td>40</td>\n      <td>Male</td>\n      <td>143</td>\n      <td>Frenzied Scimitar</td>\n      <td>1.56</td>\n    </tr>\n    <tr>\n      <th>2</th>\n      <td>2</td>\n      <td>Ithergue48</td>\n      <td>24</td>\n      <td>Male</td>\n      <td>92</td>\n      <td>Final Critic</td>\n      <td>4.88</td>\n    </tr>\n    <tr>\n      <th>3</th>\n      <td>3</td>\n      <td>Chamassasya86</td>\n      <td>24</td>\n      <td>Male</td>\n      <td>100</td>\n      <td>Blindscythe</td>\n      <td>3.27</td>\n    </tr>\n    <tr>\n      <th>4</th>\n      <td>4</td>\n      <td>Iskosia90</td>\n      <td>23</td>\n      <td>Male</td>\n      <td>131</td>\n      <td>Fury</td>\n      <td>1.44</td>\n    </tr>\n  </tbody>\n</table>\n</div>"
     },
     "metadata": {},
     "execution_count": 593
    }
   ],
   "source": [
    "#imoprt and create path for data\n",
    "import pandas as pd\n",
    "csv_path = \"Resources/purchase_data.csv\"\n",
    "Heroes_df = pd.read_csv(csv_path)\n",
    "Heroes_df.head()"
   ]
  },
  {
   "cell_type": "code",
   "execution_count": 594,
   "metadata": {},
   "outputs": [],
   "source": [
    "#Make Purchase ID the index\n",
    "Heroes_set_index_df = Heroes_df.set_index([\"Purchase ID\"])"
   ]
  },
  {
   "cell_type": "code",
   "execution_count": 595,
   "metadata": {},
   "outputs": [],
   "source": [
    "#Change SN to players name\n",
    "Heroes_player_renamed_df = Heroes_set_index_df.rename(columns={\"SN\": \"Players\"})"
   ]
  },
  {
   "cell_type": "code",
   "execution_count": 596,
   "metadata": {},
   "outputs": [],
   "source": [
    "#Calculate the player count\n",
    "Player_Count_df = Heroes_player_renamed_df[\"Players\"].nunique()"
   ]
  },
  {
   "cell_type": "code",
   "execution_count": 597,
   "metadata": {},
   "outputs": [
    {
     "output_type": "execute_result",
     "data": {
      "text/plain": [
       "   Total Players\n",
       "0            576"
      ],
      "text/html": "<div>\n<style scoped>\n    .dataframe tbody tr th:only-of-type {\n        vertical-align: middle;\n    }\n\n    .dataframe tbody tr th {\n        vertical-align: top;\n    }\n\n    .dataframe thead th {\n        text-align: right;\n    }\n</style>\n<table border=\"1\" class=\"dataframe\">\n  <thead>\n    <tr style=\"text-align: right;\">\n      <th></th>\n      <th>Total Players</th>\n    </tr>\n  </thead>\n  <tbody>\n    <tr>\n      <th>0</th>\n      <td>576</td>\n    </tr>\n  </tbody>\n</table>\n</div>"
     },
     "metadata": {},
     "execution_count": 597
    }
   ],
   "source": [
    "#Print dataframe player count\n",
    "Heroes_frame_df = pd.DataFrame({\"Total Players\": [Player_Count_df]})\n",
    "Heroes_frame_df"
   ]
  },
  {
   "cell_type": "code",
   "execution_count": 598,
   "metadata": {},
   "outputs": [],
   "source": [
    "#Calculate the number if Unique items by Item name \n",
    "#Calculate the Average price by Price\n",
    "#Count the number of total purchaes by Item name \n",
    "#Calculate the total revenue by Price \n",
    "Heroes_item_df = Heroes_player_renamed_df[\"Item Name\"].nunique()\n",
    "Heroes_average_price_df = Heroes_player_renamed_df[\"Price\"].mean()\n",
    "Heroes_item_count_df = Heroes_player_renamed_df[\"Item Name\"].count()\n",
    "Heroes_total_price_df = Heroes_player_renamed_df[\"Price\"].sum()"
   ]
  },
  {
   "cell_type": "code",
   "execution_count": 599,
   "metadata": {},
   "outputs": [
    {
     "output_type": "execute_result",
     "data": {
      "text/plain": [
       "   Number of Unique Items Average Price  Number of Purchases Total Revenue\n",
       "0                     179         $3.05                  780      $2379.77"
      ],
      "text/html": "<div>\n<style scoped>\n    .dataframe tbody tr th:only-of-type {\n        vertical-align: middle;\n    }\n\n    .dataframe tbody tr th {\n        vertical-align: top;\n    }\n\n    .dataframe thead th {\n        text-align: right;\n    }\n</style>\n<table border=\"1\" class=\"dataframe\">\n  <thead>\n    <tr style=\"text-align: right;\">\n      <th></th>\n      <th>Number of Unique Items</th>\n      <th>Average Price</th>\n      <th>Number of Purchases</th>\n      <th>Total Revenue</th>\n    </tr>\n  </thead>\n  <tbody>\n    <tr>\n      <th>0</th>\n      <td>179</td>\n      <td>$3.05</td>\n      <td>780</td>\n      <td>$2379.77</td>\n    </tr>\n  </tbody>\n</table>\n</div>"
     },
     "metadata": {},
     "execution_count": 599
    }
   ],
   "source": [
    "#Create a dataframe for the purchase analysis (total)\n",
    "#formate the ouput by rounding and adding $\n",
    "Heroes_summary_df = pd.DataFrame({\"Number of Unique Items\": [Heroes_item_df],\"Average Price\": [Heroes_average_price_df], \"Number of Purchases\": [Heroes_item_count_df], \"Total Revenue\": [Heroes_total_price_df]})\n",
    "Heroes_summary_df[\"Average Price\"] = Heroes_summary_df[\"Average Price\"].map(\"${:.2f}\".format)\n",
    "Heroes_summary_df[\"Total Revenue\"] = Heroes_summary_df[\"Total Revenue\"].map(\"${:.2f}\".format)\n",
    "Heroes_summary_df"
   ]
  },
  {
   "cell_type": "code",
   "execution_count": 600,
   "metadata": {},
   "outputs": [],
   "source": [
    "#Elimanate duplicate players\n",
    "Names_df = Heroes_player_renamed_df.drop_duplicates(\"Players\")"
   ]
  },
  {
   "cell_type": "code",
   "execution_count": 601,
   "metadata": {},
   "outputs": [],
   "source": [
    "#Group data, with duplicates removed, by Gender and subset Players\n",
    "Names_gender_df = Names_df.groupby(\"Gender\")[\"Players\"].count()"
   ]
  },
  {
   "cell_type": "code",
   "execution_count": 602,
   "metadata": {},
   "outputs": [],
   "source": [
    "#calculate the percentages of each gender \n",
    "Gender_percentage_df = Names_gender_df / Player_Count_df *100"
   ]
  },
  {
   "cell_type": "code",
   "execution_count": 603,
   "metadata": {},
   "outputs": [
    {
     "output_type": "execute_result",
     "data": {
      "text/plain": [
       "                       Total Count Percentage of Players\n",
       "Gender                                                  \n",
       "Female                          81                14.06%\n",
       "Male                           484                84.03%\n",
       "Other / Non-Disclosed           11                 1.91%"
      ],
      "text/html": "<div>\n<style scoped>\n    .dataframe tbody tr th:only-of-type {\n        vertical-align: middle;\n    }\n\n    .dataframe tbody tr th {\n        vertical-align: top;\n    }\n\n    .dataframe thead th {\n        text-align: right;\n    }\n</style>\n<table border=\"1\" class=\"dataframe\">\n  <thead>\n    <tr style=\"text-align: right;\">\n      <th></th>\n      <th>Total Count</th>\n      <th>Percentage of Players</th>\n    </tr>\n    <tr>\n      <th>Gender</th>\n      <th></th>\n      <th></th>\n    </tr>\n  </thead>\n  <tbody>\n    <tr>\n      <th>Female</th>\n      <td>81</td>\n      <td>14.06%</td>\n    </tr>\n    <tr>\n      <th>Male</th>\n      <td>484</td>\n      <td>84.03%</td>\n    </tr>\n    <tr>\n      <th>Other / Non-Disclosed</th>\n      <td>11</td>\n      <td>1.91%</td>\n    </tr>\n  </tbody>\n</table>\n</div>"
     },
     "metadata": {},
     "execution_count": 603
    }
   ],
   "source": [
    "#Create a dataframe for gender percentages \n",
    "# #format to add %\n",
    "Heroes_gender_summary_df = pd.DataFrame({ \"Total Count\": Names_gender_df, \n",
    "\"Percentage of Players\": Gender_percentage_df})\n",
    "Heroes_gender_summary_df[\"Percentage of Players\"] = Heroes_gender_summary_df[\"Percentage of Players\"].map(\"{:.2f}%\".format)\n",
    "Heroes_gender_summary_df"
   ]
  },
  {
   "cell_type": "code",
   "execution_count": 604,
   "metadata": {},
   "outputs": [],
   "source": [
    "#Group Players header data by Gender and subset Players\n",
    "#Count the total of each gender \n",
    "Prices_gender_df = Heroes_player_renamed_df.groupby(\"Gender\")[\"Players\"].count()"
   ]
  },
  {
   "cell_type": "code",
   "execution_count": 605,
   "metadata": {},
   "outputs": [],
   "source": [
    "#Group Players header data by Gender and subset Players\n",
    "#Find the mean item price of each Gender\n",
    "Average_gender_purchase_price_df = Heroes_player_renamed_df.groupby(\"Gender\")[\"Price\"].mean()"
   ]
  },
  {
   "cell_type": "code",
   "execution_count": 606,
   "metadata": {},
   "outputs": [],
   "source": [
    "#Group Players header data by Gender and subset Players\n",
    "#Find the total of items purchsed for each Gender\n",
    "Total_gender_purchase_price_df = Heroes_player_renamed_df.groupby(\"Gender\")[\"Price\"].sum()"
   ]
  },
  {
   "cell_type": "code",
   "execution_count": 607,
   "metadata": {},
   "outputs": [],
   "source": [
    "#Group Players header data by Gender and subset Players\n",
    "#Find the avergae total for each Genders purchase\n",
    "Average_total_df = Total_gender_purchase_price_df / Names_gender_df"
   ]
  },
  {
   "cell_type": "code",
   "execution_count": 608,
   "metadata": {},
   "outputs": [
    {
     "output_type": "execute_result",
     "data": {
      "text/plain": [
       "                       Purchase Average Purchase Price Total Purchase Value  \\\n",
       "Gender                                                                        \n",
       "Female                      113                  $3.20              $361.94   \n",
       "Male                        652                  $3.02             $1967.64   \n",
       "Other / Non-Disclosed        15                  $3.35               $50.19   \n",
       "\n",
       "                      Avg Total Purchase per Person  \n",
       "Gender                                               \n",
       "Female                                        $4.47  \n",
       "Male                                          $4.07  \n",
       "Other / Non-Disclosed                         $4.56  "
      ],
      "text/html": "<div>\n<style scoped>\n    .dataframe tbody tr th:only-of-type {\n        vertical-align: middle;\n    }\n\n    .dataframe tbody tr th {\n        vertical-align: top;\n    }\n\n    .dataframe thead th {\n        text-align: right;\n    }\n</style>\n<table border=\"1\" class=\"dataframe\">\n  <thead>\n    <tr style=\"text-align: right;\">\n      <th></th>\n      <th>Purchase</th>\n      <th>Average Purchase Price</th>\n      <th>Total Purchase Value</th>\n      <th>Avg Total Purchase per Person</th>\n    </tr>\n    <tr>\n      <th>Gender</th>\n      <th></th>\n      <th></th>\n      <th></th>\n      <th></th>\n    </tr>\n  </thead>\n  <tbody>\n    <tr>\n      <th>Female</th>\n      <td>113</td>\n      <td>$3.20</td>\n      <td>$361.94</td>\n      <td>$4.47</td>\n    </tr>\n    <tr>\n      <th>Male</th>\n      <td>652</td>\n      <td>$3.02</td>\n      <td>$1967.64</td>\n      <td>$4.07</td>\n    </tr>\n    <tr>\n      <th>Other / Non-Disclosed</th>\n      <td>15</td>\n      <td>$3.35</td>\n      <td>$50.19</td>\n      <td>$4.56</td>\n    </tr>\n  </tbody>\n</table>\n</div>"
     },
     "metadata": {},
     "execution_count": 608
    }
   ],
   "source": [
    "#Create a purchasing analysis (Gender) dataframe\n",
    "#Format with $\n",
    "Heroes_purchase_summary_df = pd.DataFrame({ \"Purchase\": Prices_gender_df, \"Average Purchase Price\": Average_gender_purchase_price_df, \"Total Purchase Value\": Total_gender_purchase_price_df, \"Avg Total Purchase per Person\": Average_total_df})\n",
    "Heroes_purchase_summary_df[\"Average Purchase Price\"] = Heroes_purchase_summary_df[\"Average Purchase Price\"].map(\"${:.2f}\".format)\n",
    "Heroes_purchase_summary_df[\"Total Purchase Value\"] = Heroes_purchase_summary_df[\"Total Purchase Value\"].map(\"${:.2f}\".format)\n",
    "Heroes_purchase_summary_df[\"Avg Total Purchase per Person\"] = Heroes_purchase_summary_df[\"Avg Total Purchase per Person\"].map(\"${:.2f}\".format)\n",
    "Heroes_purchase_summary_df"
   ]
  },
  {
   "cell_type": "code",
   "execution_count": 609,
   "metadata": {},
   "outputs": [
    {
     "output_type": "stream",
     "name": "stdout",
     "text": [
      "45\n7\n"
     ]
    }
   ],
   "source": [
    "#Find the min and mx of age of players\n",
    "print(Heroes_player_renamed_df[\"Age\"].max())\n",
    "print(Heroes_player_renamed_df[\"Age\"].min())"
   ]
  },
  {
   "cell_type": "code",
   "execution_count": 610,
   "metadata": {},
   "outputs": [],
   "source": [
    "#Create bins for the age range\n",
    "#Create gorups to group player ages into \n",
    "bins = [0, 9.99, 14.99, 19.99, 24.99, 29.99, 34.99, 39.99, 45]\n",
    "group_ages = [\"<10\", \"10-14\", \"15-19\", \"20-24\", \"25-29\", \"30-34\", \"35-39\", \"40+\"]"
   ]
  },
  {
   "cell_type": "code",
   "execution_count": 611,
   "metadata": {},
   "outputs": [],
   "source": [
    "#Add a Age Group column\n",
    "Names_df[\"Age Group\"] = pd.cut(Names_df[\"Age\"], bins, labels=group_ages)"
   ]
  },
  {
   "cell_type": "code",
   "execution_count": 612,
   "metadata": {},
   "outputs": [],
   "source": [
    "#Group duplicates removed data by age group\n",
    "#Group dataframe by players\n",
    "#Find the unique players\n",
    "Heroes_age_group = Names_df.groupby(\"Age Group\")\n",
    "Heroes_age_dataframe_df = (Heroes_age_group[\"Players\"].nunique())\n",
    "##print(Heroes_age_dataframe_df)\n",
    "#Calculate the percentage of each age group \n",
    "Heroes_age_percentage_df = Heroes_age_dataframe_df/ Player_Count_df *100"
   ]
  },
  {
   "cell_type": "code",
   "execution_count": 613,
   "metadata": {},
   "outputs": [
    {
     "output_type": "execute_result",
     "data": {
      "text/plain": [
       "           Total Count Percentage of Players\n",
       "Age Group                                   \n",
       "<10                 17                 2.95%\n",
       "10-14               22                 3.82%\n",
       "15-19              107                18.58%\n",
       "20-24              258                44.79%\n",
       "25-29               77                13.37%\n",
       "30-34               52                 9.03%\n",
       "35-39               31                 5.38%\n",
       "40+                 12                 2.08%"
      ],
      "text/html": "<div>\n<style scoped>\n    .dataframe tbody tr th:only-of-type {\n        vertical-align: middle;\n    }\n\n    .dataframe tbody tr th {\n        vertical-align: top;\n    }\n\n    .dataframe thead th {\n        text-align: right;\n    }\n</style>\n<table border=\"1\" class=\"dataframe\">\n  <thead>\n    <tr style=\"text-align: right;\">\n      <th></th>\n      <th>Total Count</th>\n      <th>Percentage of Players</th>\n    </tr>\n    <tr>\n      <th>Age Group</th>\n      <th></th>\n      <th></th>\n    </tr>\n  </thead>\n  <tbody>\n    <tr>\n      <th>&lt;10</th>\n      <td>17</td>\n      <td>2.95%</td>\n    </tr>\n    <tr>\n      <th>10-14</th>\n      <td>22</td>\n      <td>3.82%</td>\n    </tr>\n    <tr>\n      <th>15-19</th>\n      <td>107</td>\n      <td>18.58%</td>\n    </tr>\n    <tr>\n      <th>20-24</th>\n      <td>258</td>\n      <td>44.79%</td>\n    </tr>\n    <tr>\n      <th>25-29</th>\n      <td>77</td>\n      <td>13.37%</td>\n    </tr>\n    <tr>\n      <th>30-34</th>\n      <td>52</td>\n      <td>9.03%</td>\n    </tr>\n    <tr>\n      <th>35-39</th>\n      <td>31</td>\n      <td>5.38%</td>\n    </tr>\n    <tr>\n      <th>40+</th>\n      <td>12</td>\n      <td>2.08%</td>\n    </tr>\n  </tbody>\n</table>\n</div>"
     },
     "metadata": {},
     "execution_count": 613
    }
   ],
   "source": [
    "#Create Dataframe for Total age caount and Percentage of total count \n",
    "Heroes_age_summary_df = pd.DataFrame({\"Total Count\": Heroes_age_dataframe_df, \"Percentage of Players\": Heroes_age_percentage_df})\n",
    "#Format with %\n",
    "Heroes_age_summary_df[\"Percentage of Players\"] = Heroes_age_summary_df[\"Percentage of Players\"].map(\"{:.2f}%\".format)\n",
    "Heroes_age_summary_df"
   ]
  },
  {
   "cell_type": "code",
   "execution_count": 614,
   "metadata": {},
   "outputs": [],
   "source": [
    "#Add age group column\n",
    "Heroes_player_renamed_df[\"Age Group\"] = pd.cut(Heroes_player_renamed_df[\"Age\"], bins, labels=group_ages)\n"
   ]
  },
  {
   "cell_type": "code",
   "execution_count": 615,
   "metadata": {},
   "outputs": [],
   "source": [
    "#Breakdown purchases into age group \n",
    "#Count he number of purchaes by age group\n",
    "Heroes_purchase_age_group = Heroes_player_renamed_df.groupby(\"Age Group\")\n",
    "Heroes_purchase_age_dataframe_df = (Heroes_purchase_age_group[\"Price\"].count())\n"
   ]
  },
  {
   "cell_type": "code",
   "execution_count": 616,
   "metadata": {},
   "outputs": [],
   "source": [
    "#Group by Age group with a subset of Age\n",
    "#Calculate the average Item Purchase by Age Group\n",
    "Average_age_purchase_price_df = Heroes_player_renamed_df.groupby(\"Age Group\")[\"Price\"].mean()\n"
   ]
  },
  {
   "cell_type": "code",
   "execution_count": 617,
   "metadata": {},
   "outputs": [],
   "source": [
    "#Group by Age Group with a subset of Price\n",
    "#Calculate the total purchase amount by Age Group\n",
    "Total_age_purchase_price_df = Heroes_player_renamed_df.groupby(\"Age Group\")[\"Price\"].sum()\n"
   ]
  },
  {
   "cell_type": "code",
   "execution_count": 618,
   "metadata": {},
   "outputs": [],
   "source": [
    "#Calculate the Average Total of each age group\n",
    "Average_total_age_purchase_df = Total_age_purchase_price_df / Heroes_age_dataframe_df\n"
   ]
  },
  {
   "cell_type": "code",
   "execution_count": 619,
   "metadata": {},
   "outputs": [
    {
     "output_type": "execute_result",
     "data": {
      "text/plain": [
       "           Purchase Count Average Purchase Price Total Purchase Value  \\\n",
       "Age Group                                                               \n",
       "<10                    23                  $3.35               $77.13   \n",
       "10-14                  28                  $2.96               $82.78   \n",
       "15-19                 136                  $3.04              $412.89   \n",
       "20-24                 365                  $3.05             $1114.06   \n",
       "25-29                 101                  $2.90              $293.00   \n",
       "30-34                  73                  $2.93              $214.00   \n",
       "35-39                  41                  $3.60              $147.67   \n",
       "40+                    13                  $2.94               $38.24   \n",
       "\n",
       "          Avg Total Purchase per Person  \n",
       "Age Group                                \n",
       "<10                               $4.54  \n",
       "10-14                             $3.76  \n",
       "15-19                             $3.86  \n",
       "20-24                             $4.32  \n",
       "25-29                             $3.81  \n",
       "30-34                             $4.12  \n",
       "35-39                             $4.76  \n",
       "40+                               $3.19  "
      ],
      "text/html": "<div>\n<style scoped>\n    .dataframe tbody tr th:only-of-type {\n        vertical-align: middle;\n    }\n\n    .dataframe tbody tr th {\n        vertical-align: top;\n    }\n\n    .dataframe thead th {\n        text-align: right;\n    }\n</style>\n<table border=\"1\" class=\"dataframe\">\n  <thead>\n    <tr style=\"text-align: right;\">\n      <th></th>\n      <th>Purchase Count</th>\n      <th>Average Purchase Price</th>\n      <th>Total Purchase Value</th>\n      <th>Avg Total Purchase per Person</th>\n    </tr>\n    <tr>\n      <th>Age Group</th>\n      <th></th>\n      <th></th>\n      <th></th>\n      <th></th>\n    </tr>\n  </thead>\n  <tbody>\n    <tr>\n      <th>&lt;10</th>\n      <td>23</td>\n      <td>$3.35</td>\n      <td>$77.13</td>\n      <td>$4.54</td>\n    </tr>\n    <tr>\n      <th>10-14</th>\n      <td>28</td>\n      <td>$2.96</td>\n      <td>$82.78</td>\n      <td>$3.76</td>\n    </tr>\n    <tr>\n      <th>15-19</th>\n      <td>136</td>\n      <td>$3.04</td>\n      <td>$412.89</td>\n      <td>$3.86</td>\n    </tr>\n    <tr>\n      <th>20-24</th>\n      <td>365</td>\n      <td>$3.05</td>\n      <td>$1114.06</td>\n      <td>$4.32</td>\n    </tr>\n    <tr>\n      <th>25-29</th>\n      <td>101</td>\n      <td>$2.90</td>\n      <td>$293.00</td>\n      <td>$3.81</td>\n    </tr>\n    <tr>\n      <th>30-34</th>\n      <td>73</td>\n      <td>$2.93</td>\n      <td>$214.00</td>\n      <td>$4.12</td>\n    </tr>\n    <tr>\n      <th>35-39</th>\n      <td>41</td>\n      <td>$3.60</td>\n      <td>$147.67</td>\n      <td>$4.76</td>\n    </tr>\n    <tr>\n      <th>40+</th>\n      <td>13</td>\n      <td>$2.94</td>\n      <td>$38.24</td>\n      <td>$3.19</td>\n    </tr>\n  </tbody>\n</table>\n</div>"
     },
     "metadata": {},
     "execution_count": 619
    }
   ],
   "source": [
    "#Create Purchasing Analysis (Age) dataframe\n",
    "#Format datafram with $\n",
    "Heroes_purchase_age_summary_df = pd.DataFrame({\"Purchase Count\": Heroes_purchase_age_dataframe_df, \"Average Purchase Price\": Average_age_purchase_price_df, \"Total Purchase Value\": Total_age_purchase_price_df, \"Avg Total Purchase per Person\": Average_total_age_purchase_df})\n",
    "Heroes_purchase_age_summary_df[\"Average Purchase Price\"] = Heroes_purchase_age_summary_df[\"Average Purchase Price\"].map(\"${:.2f}\".format)\n",
    "Heroes_purchase_age_summary_df[\"Total Purchase Value\"] = Heroes_purchase_age_summary_df[\"Total Purchase Value\"].map(\"${:.2f}\".format)\n",
    "Heroes_purchase_age_summary_df[\"Avg Total Purchase per Person\"] = Heroes_purchase_age_summary_df[\"Avg Total Purchase per Person\"].map(\"${:.2f}\".format)\n",
    "Heroes_purchase_age_summary_df"
   ]
  },
  {
   "cell_type": "code",
   "execution_count": 620,
   "metadata": {},
   "outputs": [],
   "source": [
    "#Create groupby dataframe by Players\n",
    "#Create groupby dataframe by Price \n",
    "#Find the total pruchase price of each player\n",
    "#Create a groupby dataframe by Players for the count\n",
    "#Find the total purchase count of each player \n",
    "#Create a groupby by Price for the avergae purchase price\n",
    "#Find the avergae purchase price per user \n",
    "Heroes_top_spender_df = Heroes_df.groupby([\"SN\"])\n",
    "Heroes_purchasing_grouped_info_df = Heroes_top_spender_df[\"Price\"].sum()\n",
    "Heroes_purchasing_count_grouped_info_df = Heroes_top_spender_df[\"SN\"].count()\n",
    "Heroes_purchasing__average_grouped_info_df = Heroes_top_spender_df[\"Price\"].mean()\n",
    "#Create DataFrame for Top Spenders with Purchase Count, Average Purchase Price, and Total Purchase Value\n",
    "Top_spender_df = pd.DataFrame({\"Purchase Count\": Heroes_purchasing_count_grouped_info_df, \"Average Purchase Price\": Heroes_purchasing__average_grouped_info_df, \"Total Purchase Value\": Heroes_purchasing_grouped_info_df})\n",
    "\n"
   ]
  },
  {
   "cell_type": "code",
   "execution_count": 621,
   "metadata": {},
   "outputs": [],
   "source": [
    "#Sort DataFrame by Total Purchase Value, in descending order \n",
    "Heroes_spender_sort_df = Top_spender_df.sort_values(\"Total Purchase Value\", ascending=False)\n",
    "\n"
   ]
  },
  {
   "cell_type": "code",
   "execution_count": 622,
   "metadata": {},
   "outputs": [
    {
     "output_type": "execute_result",
     "data": {
      "text/plain": [
       "             Purchase Count Average Purchase Price Total Purchase Value\n",
       "SN                                                                     \n",
       "Lisosia93                 5                  $3.79               $18.96\n",
       "Idastidru52               4                  $3.86               $15.45\n",
       "Chamjask73                3                  $4.61               $13.83\n",
       "Iral74                    4                  $3.40               $13.62\n",
       "Iskadarya95               3                  $4.37               $13.10"
      ],
      "text/html": "<div>\n<style scoped>\n    .dataframe tbody tr th:only-of-type {\n        vertical-align: middle;\n    }\n\n    .dataframe tbody tr th {\n        vertical-align: top;\n    }\n\n    .dataframe thead th {\n        text-align: right;\n    }\n</style>\n<table border=\"1\" class=\"dataframe\">\n  <thead>\n    <tr style=\"text-align: right;\">\n      <th></th>\n      <th>Purchase Count</th>\n      <th>Average Purchase Price</th>\n      <th>Total Purchase Value</th>\n    </tr>\n    <tr>\n      <th>SN</th>\n      <th></th>\n      <th></th>\n      <th></th>\n    </tr>\n  </thead>\n  <tbody>\n    <tr>\n      <th>Lisosia93</th>\n      <td>5</td>\n      <td>$3.79</td>\n      <td>$18.96</td>\n    </tr>\n    <tr>\n      <th>Idastidru52</th>\n      <td>4</td>\n      <td>$3.86</td>\n      <td>$15.45</td>\n    </tr>\n    <tr>\n      <th>Chamjask73</th>\n      <td>3</td>\n      <td>$4.61</td>\n      <td>$13.83</td>\n    </tr>\n    <tr>\n      <th>Iral74</th>\n      <td>4</td>\n      <td>$3.40</td>\n      <td>$13.62</td>\n    </tr>\n    <tr>\n      <th>Iskadarya95</th>\n      <td>3</td>\n      <td>$4.37</td>\n      <td>$13.10</td>\n    </tr>\n  </tbody>\n</table>\n</div>"
     },
     "metadata": {},
     "execution_count": 622
    }
   ],
   "source": [
    "#Format the DataFrame with $\n",
    "Heroes_spender_sort_df[\"Total Purchase Value\"] = Heroes_spender_sort_df[\"Total Purchase Value\"].map(\"${:.2f}\".format)\n",
    "Heroes_spender_sort_df[\"Average Purchase Price\"] = Heroes_spender_sort_df[\"Average Purchase Price\"].map(\"${:.2f}\".format)\n",
    "Heroes_spender_sort_df.iloc[0:5]"
   ]
  },
  {
   "cell_type": "code",
   "execution_count": 623,
   "metadata": {},
   "outputs": [],
   "source": [
    "#Create groupby dataframe by Item Name\n",
    "#Create groupby dataframe by Price \n",
    "#Find the total prie of each item purchased\n",
    "#Create a groupby dataframe by Item for the count\n",
    "#Find the total purchase count of each item\n",
    "#Create a groupby by Price for the avergae purchase price of the time\n",
    "#Find the avergae purchase price per item\n",
    "Heroes_top_item_df = Heroes_df.groupby([\"Item ID\", \"Item Name\"])\n",
    "Heroes_purchased_item_grouped_info_df = Heroes_top_item_df[\"Price\"].sum()\n",
    "Heroes_purchased_item_count_grouped_info_df = Heroes_top_item_df[\"Item Name\"].count()\n",
    "Heroes_purchased_item_average_grouped_info_df = Heroes_top_item_df[\"Price\"].mean()\n",
    "#Create DataFrame for Most Popular Items with Purchase Count, Average Purchase Price, and Total Purchase Value\n",
    "Most_profitable_df = pd.DataFrame({\"Purchase Count\": Heroes_purchased_item_count_grouped_info_df, \"Item Price\": Heroes_purchased_item_average_grouped_info_df, \"Total Purchase Value\": Heroes_purchased_item_grouped_info_df })\n",
    "\n"
   ]
  },
  {
   "cell_type": "code",
   "execution_count": 624,
   "metadata": {},
   "outputs": [],
   "source": [
    "#Sort DataFrame by Purchase Count \n",
    "Heroes_item_sort_df = Most_profitable_df.sort_values(\"Purchase Count\", ascending=False)\n"
   ]
  },
  {
   "cell_type": "code",
   "execution_count": 625,
   "metadata": {},
   "outputs": [
    {
     "output_type": "execute_result",
     "data": {
      "text/plain": [
       "                                                      Purchase Count  \\\n",
       "Item ID Item Name                                                      \n",
       "92      Final Critic                                              13   \n",
       "178     Oathbreaker, Last Hope of the Breaking Storm              12   \n",
       "145     Fiery Glass Crusader                                       9   \n",
       "132     Persuasion                                                 9   \n",
       "108     Extraction, Quickblade Of Trembling Hands                  9   \n",
       "\n",
       "                                                     Item Price  \\\n",
       "Item ID Item Name                                                 \n",
       "92      Final Critic                                      $4.61   \n",
       "178     Oathbreaker, Last Hope of the Breaking Storm      $4.23   \n",
       "145     Fiery Glass Crusader                              $4.58   \n",
       "132     Persuasion                                        $3.22   \n",
       "108     Extraction, Quickblade Of Trembling Hands         $3.53   \n",
       "\n",
       "                                                     Total Purchase Value  \n",
       "Item ID Item Name                                                          \n",
       "92      Final Critic                                               $59.99  \n",
       "178     Oathbreaker, Last Hope of the Breaking Storm               $50.76  \n",
       "145     Fiery Glass Crusader                                       $41.22  \n",
       "132     Persuasion                                                 $28.99  \n",
       "108     Extraction, Quickblade Of Trembling Hands                  $31.77  "
      ],
      "text/html": "<div>\n<style scoped>\n    .dataframe tbody tr th:only-of-type {\n        vertical-align: middle;\n    }\n\n    .dataframe tbody tr th {\n        vertical-align: top;\n    }\n\n    .dataframe thead th {\n        text-align: right;\n    }\n</style>\n<table border=\"1\" class=\"dataframe\">\n  <thead>\n    <tr style=\"text-align: right;\">\n      <th></th>\n      <th></th>\n      <th>Purchase Count</th>\n      <th>Item Price</th>\n      <th>Total Purchase Value</th>\n    </tr>\n    <tr>\n      <th>Item ID</th>\n      <th>Item Name</th>\n      <th></th>\n      <th></th>\n      <th></th>\n    </tr>\n  </thead>\n  <tbody>\n    <tr>\n      <th>92</th>\n      <th>Final Critic</th>\n      <td>13</td>\n      <td>$4.61</td>\n      <td>$59.99</td>\n    </tr>\n    <tr>\n      <th>178</th>\n      <th>Oathbreaker, Last Hope of the Breaking Storm</th>\n      <td>12</td>\n      <td>$4.23</td>\n      <td>$50.76</td>\n    </tr>\n    <tr>\n      <th>145</th>\n      <th>Fiery Glass Crusader</th>\n      <td>9</td>\n      <td>$4.58</td>\n      <td>$41.22</td>\n    </tr>\n    <tr>\n      <th>132</th>\n      <th>Persuasion</th>\n      <td>9</td>\n      <td>$3.22</td>\n      <td>$28.99</td>\n    </tr>\n    <tr>\n      <th>108</th>\n      <th>Extraction, Quickblade Of Trembling Hands</th>\n      <td>9</td>\n      <td>$3.53</td>\n      <td>$31.77</td>\n    </tr>\n  </tbody>\n</table>\n</div>"
     },
     "metadata": {},
     "execution_count": 625
    }
   ],
   "source": [
    "#Format DataFrame with $\n",
    "#Use Iloc to find top five items\n",
    "Heroes_item_sort_df[\"Item Price\"] = Heroes_item_sort_df[\"Item Price\"].map(\"${:.2f}\".format)\n",
    "Heroes_item_sort_df[\"Total Purchase Value\"] = Heroes_item_sort_df[\"Total Purchase Value\"].map(\"${:.2f}\".format)\n",
    "Heroes_item_sort_df.iloc[0:5]"
   ]
  },
  {
   "cell_type": "code",
   "execution_count": 626,
   "metadata": {},
   "outputs": [],
   "source": [
    "#Create groupby dataframe by Item Name\n",
    "#Create groupby dataframe by Price \n",
    "#Find the total prie of each item purchased\n",
    "#Create a groupby dataframe by Item for the count\n",
    "#Find the total purchase count of each item\n",
    "#Create a groupby by Price for the avergae purchase price of the time\n",
    "#Find the avergae purchase price per item\n",
    "Heroes_top_item_df = Heroes_df.groupby([\"Item ID\", \"Item Name\"])\n",
    "Heroes_purchased_item_grouped_info_df = Heroes_top_item_df[\"Price\"].sum()\n",
    "Heroes_purchased_item_count_grouped_info_df = Heroes_top_item_df[\"Item Name\"].count()\n",
    "Heroes_purchased_item_average_grouped_info_df = Heroes_top_item_df[\"Price\"].mean()\n",
    "#Create DataFrame for Most Profitable Items with Purchase Count, Average Purchase Price, and Total Purchase Value\n",
    "Most_profitable_df = pd.DataFrame({\"Purchase Count\": Heroes_purchased_item_count_grouped_info_df, \"Item Price\": Heroes_purchased_item_average_grouped_info_df, \"Total Purchase Value\": Heroes_purchased_item_grouped_info_df })\n",
    "\n"
   ]
  },
  {
   "cell_type": "code",
   "execution_count": 627,
   "metadata": {},
   "outputs": [],
   "source": [
    "#Sort by Total Purchase Value\n",
    "Heroes_item_sort_df = Most_profitable_df.sort_values(\"Total Purchase Value\", ascending=False)\n"
   ]
  },
  {
   "cell_type": "code",
   "execution_count": 628,
   "metadata": {},
   "outputs": [
    {
     "output_type": "execute_result",
     "data": {
      "text/plain": [
       "                                                      Purchase Count  \\\n",
       "Item ID Item Name                                                      \n",
       "92      Final Critic                                              13   \n",
       "178     Oathbreaker, Last Hope of the Breaking Storm              12   \n",
       "82      Nirvana                                                    9   \n",
       "145     Fiery Glass Crusader                                       9   \n",
       "103     Singed Scalpel                                             8   \n",
       "\n",
       "                                                     Item Price  \\\n",
       "Item ID Item Name                                                 \n",
       "92      Final Critic                                      $4.61   \n",
       "178     Oathbreaker, Last Hope of the Breaking Storm      $4.23   \n",
       "82      Nirvana                                           $4.90   \n",
       "145     Fiery Glass Crusader                              $4.58   \n",
       "103     Singed Scalpel                                    $4.35   \n",
       "\n",
       "                                                     Total Purchase Value  \n",
       "Item ID Item Name                                                          \n",
       "92      Final Critic                                               $59.99  \n",
       "178     Oathbreaker, Last Hope of the Breaking Storm               $50.76  \n",
       "82      Nirvana                                                    $44.10  \n",
       "145     Fiery Glass Crusader                                       $41.22  \n",
       "103     Singed Scalpel                                             $34.80  "
      ],
      "text/html": "<div>\n<style scoped>\n    .dataframe tbody tr th:only-of-type {\n        vertical-align: middle;\n    }\n\n    .dataframe tbody tr th {\n        vertical-align: top;\n    }\n\n    .dataframe thead th {\n        text-align: right;\n    }\n</style>\n<table border=\"1\" class=\"dataframe\">\n  <thead>\n    <tr style=\"text-align: right;\">\n      <th></th>\n      <th></th>\n      <th>Purchase Count</th>\n      <th>Item Price</th>\n      <th>Total Purchase Value</th>\n    </tr>\n    <tr>\n      <th>Item ID</th>\n      <th>Item Name</th>\n      <th></th>\n      <th></th>\n      <th></th>\n    </tr>\n  </thead>\n  <tbody>\n    <tr>\n      <th>92</th>\n      <th>Final Critic</th>\n      <td>13</td>\n      <td>$4.61</td>\n      <td>$59.99</td>\n    </tr>\n    <tr>\n      <th>178</th>\n      <th>Oathbreaker, Last Hope of the Breaking Storm</th>\n      <td>12</td>\n      <td>$4.23</td>\n      <td>$50.76</td>\n    </tr>\n    <tr>\n      <th>82</th>\n      <th>Nirvana</th>\n      <td>9</td>\n      <td>$4.90</td>\n      <td>$44.10</td>\n    </tr>\n    <tr>\n      <th>145</th>\n      <th>Fiery Glass Crusader</th>\n      <td>9</td>\n      <td>$4.58</td>\n      <td>$41.22</td>\n    </tr>\n    <tr>\n      <th>103</th>\n      <th>Singed Scalpel</th>\n      <td>8</td>\n      <td>$4.35</td>\n      <td>$34.80</td>\n    </tr>\n  </tbody>\n</table>\n</div>"
     },
     "metadata": {},
     "execution_count": 628
    }
   ],
   "source": [
    "#Format with $\n",
    "Heroes_item_sort_df[\"Item Price\"] = Heroes_item_sort_df[\"Item Price\"].map(\"${:.2f}\".format)\n",
    "Heroes_item_sort_df[\"Total Purchase Value\"] = Heroes_item_sort_df[\"Total Purchase Value\"].map(\"${:.2f}\".format)\n",
    "Heroes_item_sort_df.iloc[0:5]"
   ]
  },
  {
   "cell_type": "code",
   "execution_count": null,
   "metadata": {},
   "outputs": [],
   "source": []
  }
 ]
}