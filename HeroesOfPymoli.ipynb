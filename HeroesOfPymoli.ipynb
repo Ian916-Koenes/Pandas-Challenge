{
 "metadata": {
  "language_info": {
   "codemirror_mode": {
    "name": "ipython",
    "version": 3
   },
   "file_extension": ".py",
   "mimetype": "text/x-python",
   "name": "python",
   "nbconvert_exporter": "python",
   "pygments_lexer": "ipython3",
   "version": "3.8.3-final"
  },
  "orig_nbformat": 2,
  "kernelspec": {
   "name": "Python 3.8.3 64-bit",
   "display_name": "Python 3.8.3 64-bit",
   "metadata": {
    "interpreter": {
     "hash": "698a8d06f30e5fee56fabea50cf955561fabfd8588e68451d313870b540a7e00"
    }
   }
  }
 },
 "nbformat": 4,
 "nbformat_minor": 2,
 "cells": [
  {
   "cell_type": "code",
   "execution_count": 372,
   "metadata": {},
   "outputs": [
    {
     "output_type": "execute_result",
     "data": {
      "text/plain": [
       "   Purchase ID             SN  Age Gender  Item ID  \\\n",
       "0            0        Lisim78   20   Male      108   \n",
       "1            1    Lisovynya38   40   Male      143   \n",
       "2            2     Ithergue48   24   Male       92   \n",
       "3            3  Chamassasya86   24   Male      100   \n",
       "4            4      Iskosia90   23   Male      131   \n",
       "\n",
       "                                   Item Name  Price  \n",
       "0  Extraction, Quickblade Of Trembling Hands   3.53  \n",
       "1                          Frenzied Scimitar   1.56  \n",
       "2                               Final Critic   4.88  \n",
       "3                                Blindscythe   3.27  \n",
       "4                                       Fury   1.44  "
      ],
      "text/html": "<div>\n<style scoped>\n    .dataframe tbody tr th:only-of-type {\n        vertical-align: middle;\n    }\n\n    .dataframe tbody tr th {\n        vertical-align: top;\n    }\n\n    .dataframe thead th {\n        text-align: right;\n    }\n</style>\n<table border=\"1\" class=\"dataframe\">\n  <thead>\n    <tr style=\"text-align: right;\">\n      <th></th>\n      <th>Purchase ID</th>\n      <th>SN</th>\n      <th>Age</th>\n      <th>Gender</th>\n      <th>Item ID</th>\n      <th>Item Name</th>\n      <th>Price</th>\n    </tr>\n  </thead>\n  <tbody>\n    <tr>\n      <th>0</th>\n      <td>0</td>\n      <td>Lisim78</td>\n      <td>20</td>\n      <td>Male</td>\n      <td>108</td>\n      <td>Extraction, Quickblade Of Trembling Hands</td>\n      <td>3.53</td>\n    </tr>\n    <tr>\n      <th>1</th>\n      <td>1</td>\n      <td>Lisovynya38</td>\n      <td>40</td>\n      <td>Male</td>\n      <td>143</td>\n      <td>Frenzied Scimitar</td>\n      <td>1.56</td>\n    </tr>\n    <tr>\n      <th>2</th>\n      <td>2</td>\n      <td>Ithergue48</td>\n      <td>24</td>\n      <td>Male</td>\n      <td>92</td>\n      <td>Final Critic</td>\n      <td>4.88</td>\n    </tr>\n    <tr>\n      <th>3</th>\n      <td>3</td>\n      <td>Chamassasya86</td>\n      <td>24</td>\n      <td>Male</td>\n      <td>100</td>\n      <td>Blindscythe</td>\n      <td>3.27</td>\n    </tr>\n    <tr>\n      <th>4</th>\n      <td>4</td>\n      <td>Iskosia90</td>\n      <td>23</td>\n      <td>Male</td>\n      <td>131</td>\n      <td>Fury</td>\n      <td>1.44</td>\n    </tr>\n  </tbody>\n</table>\n</div>"
     },
     "metadata": {},
     "execution_count": 372
    }
   ],
   "source": [
    "import pandas as pd\n",
    "csv_path = \"Resources/purchase_data.csv\"\n",
    "Heroes_df = pd.read_csv(csv_path)\n",
    "Heroes_df.head()"
   ]
  },
  {
   "cell_type": "code",
   "execution_count": 373,
   "metadata": {},
   "outputs": [],
   "source": [
    "Heroes_set_index_df = Heroes_df.set_index([\"Purchase ID\"])"
   ]
  },
  {
   "cell_type": "code",
   "execution_count": 374,
   "metadata": {},
   "outputs": [
    {
     "output_type": "execute_result",
     "data": {
      "text/plain": [
       "                   Players  Age  Gender  Item ID  \\\n",
       "Purchase ID                                        \n",
       "0                  Lisim78   20    Male      108   \n",
       "1              Lisovynya38   40    Male      143   \n",
       "2               Ithergue48   24    Male       92   \n",
       "3            Chamassasya86   24    Male      100   \n",
       "4                Iskosia90   23    Male      131   \n",
       "...                    ...  ...     ...      ...   \n",
       "775             Aethedru70   21  Female       60   \n",
       "776                 Iral74   21    Male      164   \n",
       "777             Yathecal72   20    Male       67   \n",
       "778                Sisur91    7    Male       92   \n",
       "779              Ennrian78   24    Male       50   \n",
       "\n",
       "                                             Item Name  Price  \n",
       "Purchase ID                                                    \n",
       "0            Extraction, Quickblade Of Trembling Hands   3.53  \n",
       "1                                    Frenzied Scimitar   1.56  \n",
       "2                                         Final Critic   4.88  \n",
       "3                                          Blindscythe   3.27  \n",
       "4                                                 Fury   1.44  \n",
       "...                                                ...    ...  \n",
       "775                                               Wolf   3.54  \n",
       "776                                   Exiled Doomblade   1.63  \n",
       "777              Celeste, Incarnation of the Corrupted   3.46  \n",
       "778                                       Final Critic   4.19  \n",
       "779                                               Dawn   4.60  \n",
       "\n",
       "[780 rows x 6 columns]"
      ],
      "text/html": "<div>\n<style scoped>\n    .dataframe tbody tr th:only-of-type {\n        vertical-align: middle;\n    }\n\n    .dataframe tbody tr th {\n        vertical-align: top;\n    }\n\n    .dataframe thead th {\n        text-align: right;\n    }\n</style>\n<table border=\"1\" class=\"dataframe\">\n  <thead>\n    <tr style=\"text-align: right;\">\n      <th></th>\n      <th>Players</th>\n      <th>Age</th>\n      <th>Gender</th>\n      <th>Item ID</th>\n      <th>Item Name</th>\n      <th>Price</th>\n    </tr>\n    <tr>\n      <th>Purchase ID</th>\n      <th></th>\n      <th></th>\n      <th></th>\n      <th></th>\n      <th></th>\n      <th></th>\n    </tr>\n  </thead>\n  <tbody>\n    <tr>\n      <th>0</th>\n      <td>Lisim78</td>\n      <td>20</td>\n      <td>Male</td>\n      <td>108</td>\n      <td>Extraction, Quickblade Of Trembling Hands</td>\n      <td>3.53</td>\n    </tr>\n    <tr>\n      <th>1</th>\n      <td>Lisovynya38</td>\n      <td>40</td>\n      <td>Male</td>\n      <td>143</td>\n      <td>Frenzied Scimitar</td>\n      <td>1.56</td>\n    </tr>\n    <tr>\n      <th>2</th>\n      <td>Ithergue48</td>\n      <td>24</td>\n      <td>Male</td>\n      <td>92</td>\n      <td>Final Critic</td>\n      <td>4.88</td>\n    </tr>\n    <tr>\n      <th>3</th>\n      <td>Chamassasya86</td>\n      <td>24</td>\n      <td>Male</td>\n      <td>100</td>\n      <td>Blindscythe</td>\n      <td>3.27</td>\n    </tr>\n    <tr>\n      <th>4</th>\n      <td>Iskosia90</td>\n      <td>23</td>\n      <td>Male</td>\n      <td>131</td>\n      <td>Fury</td>\n      <td>1.44</td>\n    </tr>\n    <tr>\n      <th>...</th>\n      <td>...</td>\n      <td>...</td>\n      <td>...</td>\n      <td>...</td>\n      <td>...</td>\n      <td>...</td>\n    </tr>\n    <tr>\n      <th>775</th>\n      <td>Aethedru70</td>\n      <td>21</td>\n      <td>Female</td>\n      <td>60</td>\n      <td>Wolf</td>\n      <td>3.54</td>\n    </tr>\n    <tr>\n      <th>776</th>\n      <td>Iral74</td>\n      <td>21</td>\n      <td>Male</td>\n      <td>164</td>\n      <td>Exiled Doomblade</td>\n      <td>1.63</td>\n    </tr>\n    <tr>\n      <th>777</th>\n      <td>Yathecal72</td>\n      <td>20</td>\n      <td>Male</td>\n      <td>67</td>\n      <td>Celeste, Incarnation of the Corrupted</td>\n      <td>3.46</td>\n    </tr>\n    <tr>\n      <th>778</th>\n      <td>Sisur91</td>\n      <td>7</td>\n      <td>Male</td>\n      <td>92</td>\n      <td>Final Critic</td>\n      <td>4.19</td>\n    </tr>\n    <tr>\n      <th>779</th>\n      <td>Ennrian78</td>\n      <td>24</td>\n      <td>Male</td>\n      <td>50</td>\n      <td>Dawn</td>\n      <td>4.60</td>\n    </tr>\n  </tbody>\n</table>\n<p>780 rows × 6 columns</p>\n</div>"
     },
     "metadata": {},
     "execution_count": 374
    }
   ],
   "source": [
    "Heroes_player_renamed_df = Heroes_set_index_df.rename(columns={\"SN\": \"Players\"})\n",
    "Heroes_player_renamed_df"
   ]
  },
  {
   "cell_type": "code",
   "execution_count": 375,
   "metadata": {},
   "outputs": [
    {
     "output_type": "execute_result",
     "data": {
      "text/plain": [
       "576"
      ]
     },
     "metadata": {},
     "execution_count": 375
    }
   ],
   "source": [
    "Player_Count_df = Heroes_player_renamed_df[\"Players\"].nunique()\n",
    "Player_Count_df"
   ]
  },
  {
   "cell_type": "code",
   "execution_count": 376,
   "metadata": {},
   "outputs": [
    {
     "output_type": "execute_result",
     "data": {
      "text/plain": [
       "   Total Players\n",
       "0            576"
      ],
      "text/html": "<div>\n<style scoped>\n    .dataframe tbody tr th:only-of-type {\n        vertical-align: middle;\n    }\n\n    .dataframe tbody tr th {\n        vertical-align: top;\n    }\n\n    .dataframe thead th {\n        text-align: right;\n    }\n</style>\n<table border=\"1\" class=\"dataframe\">\n  <thead>\n    <tr style=\"text-align: right;\">\n      <th></th>\n      <th>Total Players</th>\n    </tr>\n  </thead>\n  <tbody>\n    <tr>\n      <th>0</th>\n      <td>576</td>\n    </tr>\n  </tbody>\n</table>\n</div>"
     },
     "metadata": {},
     "execution_count": 376
    }
   ],
   "source": [
    "Heroes_frame_df = pd.DataFrame({\"Total Players\": [Player_Count_df]})\n",
    "Heroes_frame_df"
   ]
  },
  {
   "cell_type": "code",
   "execution_count": 377,
   "metadata": {},
   "outputs": [],
   "source": [
    "Heroes_item_df = Heroes_player_renamed_df[\"Item Name\"].nunique()\n",
    "Heroes_average_price_df = Heroes_player_renamed_df[\"Price\"].mean()\n",
    "Heroes_item_count_df = Heroes_player_renamed_df[\"Item Name\"].count()\n",
    "Heroes_total_price_df = Heroes_player_renamed_df[\"Price\"].sum()"
   ]
  },
  {
   "cell_type": "code",
   "execution_count": 378,
   "metadata": {},
   "outputs": [
    {
     "output_type": "execute_result",
     "data": {
      "text/plain": [
       "   Number of Unique Items  Average Price  Number of Purchases  Total Revenue\n",
       "0                     179       3.050987                  780        2379.77"
      ],
      "text/html": "<div>\n<style scoped>\n    .dataframe tbody tr th:only-of-type {\n        vertical-align: middle;\n    }\n\n    .dataframe tbody tr th {\n        vertical-align: top;\n    }\n\n    .dataframe thead th {\n        text-align: right;\n    }\n</style>\n<table border=\"1\" class=\"dataframe\">\n  <thead>\n    <tr style=\"text-align: right;\">\n      <th></th>\n      <th>Number of Unique Items</th>\n      <th>Average Price</th>\n      <th>Number of Purchases</th>\n      <th>Total Revenue</th>\n    </tr>\n  </thead>\n  <tbody>\n    <tr>\n      <th>0</th>\n      <td>179</td>\n      <td>3.050987</td>\n      <td>780</td>\n      <td>2379.77</td>\n    </tr>\n  </tbody>\n</table>\n</div>"
     },
     "metadata": {},
     "execution_count": 378
    }
   ],
   "source": [
    "Heroes_summary_df = pd.DataFrame({\"Number of Unique Items\": [Heroes_item_df],\"Average Price\": [Heroes_average_price_df], \"Number of Purchases\": [Heroes_item_count_df], \"Total Revenue\": [Heroes_total_price_df]})\n",
    "Heroes_summary_df"
   ]
  },
  {
   "cell_type": "code",
   "execution_count": 379,
   "metadata": {},
   "outputs": [
    {
     "output_type": "execute_result",
     "data": {
      "text/plain": [
       "                   Players  Age  Gender  Item ID  \\\n",
       "Purchase ID                                        \n",
       "0                  Lisim78   20    Male      108   \n",
       "1              Lisovynya38   40    Male      143   \n",
       "2               Ithergue48   24    Male       92   \n",
       "3            Chamassasya86   24    Male      100   \n",
       "4                Iskosia90   23    Male      131   \n",
       "...                    ...  ...     ...      ...   \n",
       "773                 Hala31   21    Male       19   \n",
       "774             Jiskjask80   11    Male       92   \n",
       "775             Aethedru70   21  Female       60   \n",
       "777             Yathecal72   20    Male       67   \n",
       "778                Sisur91    7    Male       92   \n",
       "\n",
       "                                             Item Name  Price  \n",
       "Purchase ID                                                    \n",
       "0            Extraction, Quickblade Of Trembling Hands   3.53  \n",
       "1                                    Frenzied Scimitar   1.56  \n",
       "2                                         Final Critic   4.88  \n",
       "3                                          Blindscythe   3.27  \n",
       "4                                                 Fury   1.44  \n",
       "...                                                ...    ...  \n",
       "773                      Pursuit, Cudgel of Necromancy   1.02  \n",
       "774                                       Final Critic   4.19  \n",
       "775                                               Wolf   3.54  \n",
       "777              Celeste, Incarnation of the Corrupted   3.46  \n",
       "778                                       Final Critic   4.19  \n",
       "\n",
       "[576 rows x 6 columns]"
      ],
      "text/html": "<div>\n<style scoped>\n    .dataframe tbody tr th:only-of-type {\n        vertical-align: middle;\n    }\n\n    .dataframe tbody tr th {\n        vertical-align: top;\n    }\n\n    .dataframe thead th {\n        text-align: right;\n    }\n</style>\n<table border=\"1\" class=\"dataframe\">\n  <thead>\n    <tr style=\"text-align: right;\">\n      <th></th>\n      <th>Players</th>\n      <th>Age</th>\n      <th>Gender</th>\n      <th>Item ID</th>\n      <th>Item Name</th>\n      <th>Price</th>\n    </tr>\n    <tr>\n      <th>Purchase ID</th>\n      <th></th>\n      <th></th>\n      <th></th>\n      <th></th>\n      <th></th>\n      <th></th>\n    </tr>\n  </thead>\n  <tbody>\n    <tr>\n      <th>0</th>\n      <td>Lisim78</td>\n      <td>20</td>\n      <td>Male</td>\n      <td>108</td>\n      <td>Extraction, Quickblade Of Trembling Hands</td>\n      <td>3.53</td>\n    </tr>\n    <tr>\n      <th>1</th>\n      <td>Lisovynya38</td>\n      <td>40</td>\n      <td>Male</td>\n      <td>143</td>\n      <td>Frenzied Scimitar</td>\n      <td>1.56</td>\n    </tr>\n    <tr>\n      <th>2</th>\n      <td>Ithergue48</td>\n      <td>24</td>\n      <td>Male</td>\n      <td>92</td>\n      <td>Final Critic</td>\n      <td>4.88</td>\n    </tr>\n    <tr>\n      <th>3</th>\n      <td>Chamassasya86</td>\n      <td>24</td>\n      <td>Male</td>\n      <td>100</td>\n      <td>Blindscythe</td>\n      <td>3.27</td>\n    </tr>\n    <tr>\n      <th>4</th>\n      <td>Iskosia90</td>\n      <td>23</td>\n      <td>Male</td>\n      <td>131</td>\n      <td>Fury</td>\n      <td>1.44</td>\n    </tr>\n    <tr>\n      <th>...</th>\n      <td>...</td>\n      <td>...</td>\n      <td>...</td>\n      <td>...</td>\n      <td>...</td>\n      <td>...</td>\n    </tr>\n    <tr>\n      <th>773</th>\n      <td>Hala31</td>\n      <td>21</td>\n      <td>Male</td>\n      <td>19</td>\n      <td>Pursuit, Cudgel of Necromancy</td>\n      <td>1.02</td>\n    </tr>\n    <tr>\n      <th>774</th>\n      <td>Jiskjask80</td>\n      <td>11</td>\n      <td>Male</td>\n      <td>92</td>\n      <td>Final Critic</td>\n      <td>4.19</td>\n    </tr>\n    <tr>\n      <th>775</th>\n      <td>Aethedru70</td>\n      <td>21</td>\n      <td>Female</td>\n      <td>60</td>\n      <td>Wolf</td>\n      <td>3.54</td>\n    </tr>\n    <tr>\n      <th>777</th>\n      <td>Yathecal72</td>\n      <td>20</td>\n      <td>Male</td>\n      <td>67</td>\n      <td>Celeste, Incarnation of the Corrupted</td>\n      <td>3.46</td>\n    </tr>\n    <tr>\n      <th>778</th>\n      <td>Sisur91</td>\n      <td>7</td>\n      <td>Male</td>\n      <td>92</td>\n      <td>Final Critic</td>\n      <td>4.19</td>\n    </tr>\n  </tbody>\n</table>\n<p>576 rows × 6 columns</p>\n</div>"
     },
     "metadata": {},
     "execution_count": 379
    }
   ],
   "source": [
    "Names_df = Heroes_player_renamed_df.drop_duplicates(\"Players\")\n",
    "Names_df"
   ]
  },
  {
   "cell_type": "code",
   "execution_count": 380,
   "metadata": {},
   "outputs": [
    {
     "output_type": "execute_result",
     "data": {
      "text/plain": [
       "Gender\n",
       "Female                    81\n",
       "Male                     484\n",
       "Other / Non-Disclosed     11\n",
       "Name: Players, dtype: int64"
      ]
     },
     "metadata": {},
     "execution_count": 380
    }
   ],
   "source": [
    "Names_gender_df = Names_df.groupby(\"Gender\")[\"Players\"].count()\n",
    "Names_gender_df"
   ]
  },
  {
   "cell_type": "code",
   "execution_count": 381,
   "metadata": {},
   "outputs": [
    {
     "output_type": "execute_result",
     "data": {
      "text/plain": [
       "Gender\n",
       "Female                   0.140625\n",
       "Male                     0.840278\n",
       "Other / Non-Disclosed    0.019097\n",
       "Name: Players, dtype: float64"
      ]
     },
     "metadata": {},
     "execution_count": 381
    }
   ],
   "source": [
    "Gender_percentage_df = Names_gender_df / Player_Count_df\n",
    "Gender_percentage_df"
   ]
  },
  {
   "cell_type": "code",
   "execution_count": 382,
   "metadata": {},
   "outputs": [
    {
     "output_type": "execute_result",
     "data": {
      "text/plain": [
       "                       Total Count  Percentage of Players\n",
       "Gender                                                   \n",
       "Female                          81               0.140625\n",
       "Male                           484               0.840278\n",
       "Other / Non-Disclosed           11               0.019097"
      ],
      "text/html": "<div>\n<style scoped>\n    .dataframe tbody tr th:only-of-type {\n        vertical-align: middle;\n    }\n\n    .dataframe tbody tr th {\n        vertical-align: top;\n    }\n\n    .dataframe thead th {\n        text-align: right;\n    }\n</style>\n<table border=\"1\" class=\"dataframe\">\n  <thead>\n    <tr style=\"text-align: right;\">\n      <th></th>\n      <th>Total Count</th>\n      <th>Percentage of Players</th>\n    </tr>\n    <tr>\n      <th>Gender</th>\n      <th></th>\n      <th></th>\n    </tr>\n  </thead>\n  <tbody>\n    <tr>\n      <th>Female</th>\n      <td>81</td>\n      <td>0.140625</td>\n    </tr>\n    <tr>\n      <th>Male</th>\n      <td>484</td>\n      <td>0.840278</td>\n    </tr>\n    <tr>\n      <th>Other / Non-Disclosed</th>\n      <td>11</td>\n      <td>0.019097</td>\n    </tr>\n  </tbody>\n</table>\n</div>"
     },
     "metadata": {},
     "execution_count": 382
    }
   ],
   "source": [
    "Heroes_gender_summary_df = pd.DataFrame({ \"Total Count\": Names_gender_df, \n",
    "\"Percentage of Players\": Gender_percentage_df})\n",
    "#Formt spot\n",
    "Heroes_gender_summary_df"
   ]
  },
  {
   "cell_type": "code",
   "execution_count": 383,
   "metadata": {},
   "outputs": [
    {
     "output_type": "execute_result",
     "data": {
      "text/plain": [
       "Gender\n",
       "Female                   113\n",
       "Male                     652\n",
       "Other / Non-Disclosed     15\n",
       "Name: Players, dtype: int64"
      ]
     },
     "metadata": {},
     "execution_count": 383
    }
   ],
   "source": [
    "Prices_gender_df = Heroes_player_renamed_df.groupby(\"Gender\")[\"Players\"].count()\n",
    "Prices_gender_df"
   ]
  },
  {
   "cell_type": "code",
   "execution_count": 384,
   "metadata": {},
   "outputs": [
    {
     "output_type": "execute_result",
     "data": {
      "text/plain": [
       "Gender\n",
       "Female                   3.203009\n",
       "Male                     3.017853\n",
       "Other / Non-Disclosed    3.346000\n",
       "Name: Price, dtype: float64"
      ]
     },
     "metadata": {},
     "execution_count": 384
    }
   ],
   "source": [
    "Average_gender_purchase_price_df = Heroes_player_renamed_df.groupby(\"Gender\")[\"Price\"].mean()\n",
    "Average_gender_purchase_price_df"
   ]
  },
  {
   "cell_type": "code",
   "execution_count": 385,
   "metadata": {},
   "outputs": [
    {
     "output_type": "execute_result",
     "data": {
      "text/plain": [
       "Gender\n",
       "Female                    361.94\n",
       "Male                     1967.64\n",
       "Other / Non-Disclosed      50.19\n",
       "Name: Price, dtype: float64"
      ]
     },
     "metadata": {},
     "execution_count": 385
    }
   ],
   "source": [
    "Total_gender_purchase_price_df = Heroes_player_renamed_df.groupby(\"Gender\")[\"Price\"].sum()\n",
    "Total_gender_purchase_price_df"
   ]
  },
  {
   "cell_type": "code",
   "execution_count": 386,
   "metadata": {},
   "outputs": [
    {
     "output_type": "execute_result",
     "data": {
      "text/plain": [
       "Gender\n",
       "Female                   0.039543\n",
       "Male                     0.006235\n",
       "Other / Non-Disclosed    0.304182\n",
       "dtype: float64"
      ]
     },
     "metadata": {},
     "execution_count": 386
    }
   ],
   "source": [
    "Average_total_df = Average_gender_purchase_price_df / Names_gender_df\n",
    "Average_total_df"
   ]
  },
  {
   "cell_type": "code",
   "execution_count": 387,
   "metadata": {},
   "outputs": [
    {
     "output_type": "execute_result",
     "data": {
      "text/plain": [
       "                       Purchase  Average Purchase Price  Total Purchase Value  \\\n",
       "Gender                                                                          \n",
       "Female                      113                3.203009                361.94   \n",
       "Male                        652                3.017853               1967.64   \n",
       "Other / Non-Disclosed        15                3.346000                 50.19   \n",
       "\n",
       "                       Avg Total Purchase per Person  \n",
       "Gender                                                \n",
       "Female                                      0.039543  \n",
       "Male                                        0.006235  \n",
       "Other / Non-Disclosed                       0.304182  "
      ],
      "text/html": "<div>\n<style scoped>\n    .dataframe tbody tr th:only-of-type {\n        vertical-align: middle;\n    }\n\n    .dataframe tbody tr th {\n        vertical-align: top;\n    }\n\n    .dataframe thead th {\n        text-align: right;\n    }\n</style>\n<table border=\"1\" class=\"dataframe\">\n  <thead>\n    <tr style=\"text-align: right;\">\n      <th></th>\n      <th>Purchase</th>\n      <th>Average Purchase Price</th>\n      <th>Total Purchase Value</th>\n      <th>Avg Total Purchase per Person</th>\n    </tr>\n    <tr>\n      <th>Gender</th>\n      <th></th>\n      <th></th>\n      <th></th>\n      <th></th>\n    </tr>\n  </thead>\n  <tbody>\n    <tr>\n      <th>Female</th>\n      <td>113</td>\n      <td>3.203009</td>\n      <td>361.94</td>\n      <td>0.039543</td>\n    </tr>\n    <tr>\n      <th>Male</th>\n      <td>652</td>\n      <td>3.017853</td>\n      <td>1967.64</td>\n      <td>0.006235</td>\n    </tr>\n    <tr>\n      <th>Other / Non-Disclosed</th>\n      <td>15</td>\n      <td>3.346000</td>\n      <td>50.19</td>\n      <td>0.304182</td>\n    </tr>\n  </tbody>\n</table>\n</div>"
     },
     "metadata": {},
     "execution_count": 387
    }
   ],
   "source": [
    "Heroes_purchase_summary_df = pd.DataFrame({ \"Purchase\": Prices_gender_df, \"Average Purchase Price\": Average_gender_purchase_price_df, \"Total Purchase Value\": Total_gender_purchase_price_df, \"Avg Total Purchase per Person\": Average_total_df})\n",
    "Heroes_purchase_summary_df"
   ]
  },
  {
   "cell_type": "code",
   "execution_count": 388,
   "metadata": {},
   "outputs": [
    {
     "output_type": "stream",
     "name": "stdout",
     "text": [
      "45\n7\n"
     ]
    }
   ],
   "source": [
    "print(Heroes_player_renamed_df[\"Age\"].max())\n",
    "print(Heroes_player_renamed_df[\"Age\"].min())"
   ]
  },
  {
   "cell_type": "code",
   "execution_count": 389,
   "metadata": {},
   "outputs": [],
   "source": [
    "bins = [0, 9.99, 14.99, 19.99, 24.99, 29.99, 34.99, 39.99, 45]\n",
    "group_ages = [\"<10\", \"10-14\", \"15-19\", \"20-24\", \"25-29\", \"30-34\", \"35-39\", \"40+\"]"
   ]
  },
  {
   "cell_type": "code",
   "execution_count": 390,
   "metadata": {},
   "outputs": [
    {
     "output_type": "execute_result",
     "data": {
      "text/plain": [
       "Purchase ID\n",
       "0    20-24\n",
       "1      40+\n",
       "2    20-24\n",
       "3    20-24\n",
       "4    20-24\n",
       "Name: Age, dtype: category\n",
       "Categories (8, object): [<10 < 10-14 < 15-19 < 20-24 < 25-29 < 30-34 < 35-39 < 40+]"
      ]
     },
     "metadata": {},
     "execution_count": 390
    }
   ],
   "source": [
    "pd.cut(Names_df[\"Age\"], bins, labels=group_ages).head()"
   ]
  },
  {
   "cell_type": "code",
   "execution_count": 391,
   "metadata": {},
   "outputs": [
    {
     "output_type": "execute_result",
     "data": {
      "text/plain": [
       "                   Players  Age Gender  Item ID  \\\n",
       "Purchase ID                                       \n",
       "0                  Lisim78   20   Male      108   \n",
       "1              Lisovynya38   40   Male      143   \n",
       "2               Ithergue48   24   Male       92   \n",
       "3            Chamassasya86   24   Male      100   \n",
       "4                Iskosia90   23   Male      131   \n",
       "\n",
       "                                             Item Name  Price Age Group  \n",
       "Purchase ID                                                              \n",
       "0            Extraction, Quickblade Of Trembling Hands   3.53     20-24  \n",
       "1                                    Frenzied Scimitar   1.56       40+  \n",
       "2                                         Final Critic   4.88     20-24  \n",
       "3                                          Blindscythe   3.27     20-24  \n",
       "4                                                 Fury   1.44     20-24  "
      ],
      "text/html": "<div>\n<style scoped>\n    .dataframe tbody tr th:only-of-type {\n        vertical-align: middle;\n    }\n\n    .dataframe tbody tr th {\n        vertical-align: top;\n    }\n\n    .dataframe thead th {\n        text-align: right;\n    }\n</style>\n<table border=\"1\" class=\"dataframe\">\n  <thead>\n    <tr style=\"text-align: right;\">\n      <th></th>\n      <th>Players</th>\n      <th>Age</th>\n      <th>Gender</th>\n      <th>Item ID</th>\n      <th>Item Name</th>\n      <th>Price</th>\n      <th>Age Group</th>\n    </tr>\n    <tr>\n      <th>Purchase ID</th>\n      <th></th>\n      <th></th>\n      <th></th>\n      <th></th>\n      <th></th>\n      <th></th>\n      <th></th>\n    </tr>\n  </thead>\n  <tbody>\n    <tr>\n      <th>0</th>\n      <td>Lisim78</td>\n      <td>20</td>\n      <td>Male</td>\n      <td>108</td>\n      <td>Extraction, Quickblade Of Trembling Hands</td>\n      <td>3.53</td>\n      <td>20-24</td>\n    </tr>\n    <tr>\n      <th>1</th>\n      <td>Lisovynya38</td>\n      <td>40</td>\n      <td>Male</td>\n      <td>143</td>\n      <td>Frenzied Scimitar</td>\n      <td>1.56</td>\n      <td>40+</td>\n    </tr>\n    <tr>\n      <th>2</th>\n      <td>Ithergue48</td>\n      <td>24</td>\n      <td>Male</td>\n      <td>92</td>\n      <td>Final Critic</td>\n      <td>4.88</td>\n      <td>20-24</td>\n    </tr>\n    <tr>\n      <th>3</th>\n      <td>Chamassasya86</td>\n      <td>24</td>\n      <td>Male</td>\n      <td>100</td>\n      <td>Blindscythe</td>\n      <td>3.27</td>\n      <td>20-24</td>\n    </tr>\n    <tr>\n      <th>4</th>\n      <td>Iskosia90</td>\n      <td>23</td>\n      <td>Male</td>\n      <td>131</td>\n      <td>Fury</td>\n      <td>1.44</td>\n      <td>20-24</td>\n    </tr>\n  </tbody>\n</table>\n</div>"
     },
     "metadata": {},
     "execution_count": 391
    }
   ],
   "source": [
    "Names_df[\"Age Group\"] = pd.cut(Names_df[\"Age\"], bins, labels=group_ages)\n",
    "Names_df.head()"
   ]
  },
  {
   "cell_type": "code",
   "execution_count": 392,
   "metadata": {},
   "outputs": [
    {
     "output_type": "stream",
     "name": "stdout",
     "text": [
      "Age Group\n<10       17\n10-14     22\n15-19    107\n20-24    258\n25-29     77\n30-34     52\n35-39     31\n40+       12\nName: Players, dtype: int64\nAge Group\n<10      0.029514\n10-14    0.038194\n15-19    0.185764\n20-24    0.447917\n25-29    0.133681\n30-34    0.090278\n35-39    0.053819\n40+      0.020833\nName: Players, dtype: float64\n"
     ]
    }
   ],
   "source": [
    "Heroes_age_group = Names_df.groupby(\"Age Group\")\n",
    "Heroes_age_dataframe_df = (Heroes_age_group[\"Players\"].nunique())\n",
    "print(Heroes_age_dataframe_df)\n",
    "Heroes_age_percentage_df = Heroes_age_dataframe_df/ Player_Count_df\n",
    "print(Heroes_age_percentage_df)"
   ]
  },
  {
   "cell_type": "code",
   "execution_count": 393,
   "metadata": {},
   "outputs": [
    {
     "output_type": "execute_result",
     "data": {
      "text/plain": [
       "           Total Count  Percentage of Players\n",
       "Age Group                                    \n",
       "<10                 17               0.029514\n",
       "10-14               22               0.038194\n",
       "15-19              107               0.185764\n",
       "20-24              258               0.447917\n",
       "25-29               77               0.133681\n",
       "30-34               52               0.090278\n",
       "35-39               31               0.053819\n",
       "40+                 12               0.020833"
      ],
      "text/html": "<div>\n<style scoped>\n    .dataframe tbody tr th:only-of-type {\n        vertical-align: middle;\n    }\n\n    .dataframe tbody tr th {\n        vertical-align: top;\n    }\n\n    .dataframe thead th {\n        text-align: right;\n    }\n</style>\n<table border=\"1\" class=\"dataframe\">\n  <thead>\n    <tr style=\"text-align: right;\">\n      <th></th>\n      <th>Total Count</th>\n      <th>Percentage of Players</th>\n    </tr>\n    <tr>\n      <th>Age Group</th>\n      <th></th>\n      <th></th>\n    </tr>\n  </thead>\n  <tbody>\n    <tr>\n      <th>&lt;10</th>\n      <td>17</td>\n      <td>0.029514</td>\n    </tr>\n    <tr>\n      <th>10-14</th>\n      <td>22</td>\n      <td>0.038194</td>\n    </tr>\n    <tr>\n      <th>15-19</th>\n      <td>107</td>\n      <td>0.185764</td>\n    </tr>\n    <tr>\n      <th>20-24</th>\n      <td>258</td>\n      <td>0.447917</td>\n    </tr>\n    <tr>\n      <th>25-29</th>\n      <td>77</td>\n      <td>0.133681</td>\n    </tr>\n    <tr>\n      <th>30-34</th>\n      <td>52</td>\n      <td>0.090278</td>\n    </tr>\n    <tr>\n      <th>35-39</th>\n      <td>31</td>\n      <td>0.053819</td>\n    </tr>\n    <tr>\n      <th>40+</th>\n      <td>12</td>\n      <td>0.020833</td>\n    </tr>\n  </tbody>\n</table>\n</div>"
     },
     "metadata": {},
     "execution_count": 393
    }
   ],
   "source": [
    "Heroes_age_summary_df = pd.DataFrame({\"Total Count\": Heroes_age_dataframe_df, \"Percentage of Players\": Heroes_age_percentage_df})\n",
    "Heroes_age_summary_df"
   ]
  },
  {
   "cell_type": "code",
   "execution_count": 394,
   "metadata": {},
   "outputs": [
    {
     "output_type": "execute_result",
     "data": {
      "text/plain": [
       "Purchase ID\n",
       "0    20-24\n",
       "1      40+\n",
       "2    20-24\n",
       "3    20-24\n",
       "4    20-24\n",
       "Name: Age, dtype: category\n",
       "Categories (8, object): [<10 < 10-14 < 15-19 < 20-24 < 25-29 < 30-34 < 35-39 < 40+]"
      ]
     },
     "metadata": {},
     "execution_count": 394
    }
   ],
   "source": [
    "pd.cut(Heroes_player_renamed_df[\"Age\"], bins, labels=group_ages).head()"
   ]
  },
  {
   "cell_type": "code",
   "execution_count": 395,
   "metadata": {},
   "outputs": [
    {
     "output_type": "execute_result",
     "data": {
      "text/plain": [
       "                   Players  Age Gender  Item ID  \\\n",
       "Purchase ID                                       \n",
       "0                  Lisim78   20   Male      108   \n",
       "1              Lisovynya38   40   Male      143   \n",
       "2               Ithergue48   24   Male       92   \n",
       "3            Chamassasya86   24   Male      100   \n",
       "4                Iskosia90   23   Male      131   \n",
       "\n",
       "                                             Item Name  Price Age Group  \n",
       "Purchase ID                                                              \n",
       "0            Extraction, Quickblade Of Trembling Hands   3.53     20-24  \n",
       "1                                    Frenzied Scimitar   1.56       40+  \n",
       "2                                         Final Critic   4.88     20-24  \n",
       "3                                          Blindscythe   3.27     20-24  \n",
       "4                                                 Fury   1.44     20-24  "
      ],
      "text/html": "<div>\n<style scoped>\n    .dataframe tbody tr th:only-of-type {\n        vertical-align: middle;\n    }\n\n    .dataframe tbody tr th {\n        vertical-align: top;\n    }\n\n    .dataframe thead th {\n        text-align: right;\n    }\n</style>\n<table border=\"1\" class=\"dataframe\">\n  <thead>\n    <tr style=\"text-align: right;\">\n      <th></th>\n      <th>Players</th>\n      <th>Age</th>\n      <th>Gender</th>\n      <th>Item ID</th>\n      <th>Item Name</th>\n      <th>Price</th>\n      <th>Age Group</th>\n    </tr>\n    <tr>\n      <th>Purchase ID</th>\n      <th></th>\n      <th></th>\n      <th></th>\n      <th></th>\n      <th></th>\n      <th></th>\n      <th></th>\n    </tr>\n  </thead>\n  <tbody>\n    <tr>\n      <th>0</th>\n      <td>Lisim78</td>\n      <td>20</td>\n      <td>Male</td>\n      <td>108</td>\n      <td>Extraction, Quickblade Of Trembling Hands</td>\n      <td>3.53</td>\n      <td>20-24</td>\n    </tr>\n    <tr>\n      <th>1</th>\n      <td>Lisovynya38</td>\n      <td>40</td>\n      <td>Male</td>\n      <td>143</td>\n      <td>Frenzied Scimitar</td>\n      <td>1.56</td>\n      <td>40+</td>\n    </tr>\n    <tr>\n      <th>2</th>\n      <td>Ithergue48</td>\n      <td>24</td>\n      <td>Male</td>\n      <td>92</td>\n      <td>Final Critic</td>\n      <td>4.88</td>\n      <td>20-24</td>\n    </tr>\n    <tr>\n      <th>3</th>\n      <td>Chamassasya86</td>\n      <td>24</td>\n      <td>Male</td>\n      <td>100</td>\n      <td>Blindscythe</td>\n      <td>3.27</td>\n      <td>20-24</td>\n    </tr>\n    <tr>\n      <th>4</th>\n      <td>Iskosia90</td>\n      <td>23</td>\n      <td>Male</td>\n      <td>131</td>\n      <td>Fury</td>\n      <td>1.44</td>\n      <td>20-24</td>\n    </tr>\n  </tbody>\n</table>\n</div>"
     },
     "metadata": {},
     "execution_count": 395
    }
   ],
   "source": [
    "Heroes_player_renamed_df[\"Age Group\"] = pd.cut(Heroes_player_renamed_df[\"Age\"], bins, labels=group_ages)\n",
    "Heroes_player_renamed_df.head()"
   ]
  },
  {
   "cell_type": "code",
   "execution_count": 396,
   "metadata": {},
   "outputs": [
    {
     "output_type": "stream",
     "name": "stdout",
     "text": [
      "Age Group\n<10       23\n10-14     28\n15-19    136\n20-24    365\n25-29    101\n30-34     73\n35-39     41\n40+       13\nName: Price, dtype: int64\n"
     ]
    }
   ],
   "source": [
    "Heroes_purchase_age_group = Heroes_player_renamed_df.groupby(\"Age Group\")\n",
    "Heroes_purchase_age_dataframe_df = (Heroes_purchase_age_group[\"Price\"].count())\n",
    "print(Heroes_purchase_age_dataframe_df)"
   ]
  },
  {
   "cell_type": "code",
   "execution_count": 397,
   "metadata": {},
   "outputs": [
    {
     "output_type": "execute_result",
     "data": {
      "text/plain": [
       "Age Group\n",
       "<10      3.353478\n",
       "10-14    2.956429\n",
       "15-19    3.035956\n",
       "20-24    3.052219\n",
       "25-29    2.900990\n",
       "30-34    2.931507\n",
       "35-39    3.601707\n",
       "40+      2.941538\n",
       "Name: Price, dtype: float64"
      ]
     },
     "metadata": {},
     "execution_count": 397
    }
   ],
   "source": [
    "Average_age_purchase_price_df = Heroes_player_renamed_df.groupby(\"Age Group\")[\"Price\"].mean()\n",
    "Average_age_purchase_price_df"
   ]
  },
  {
   "cell_type": "code",
   "execution_count": 398,
   "metadata": {},
   "outputs": [
    {
     "output_type": "execute_result",
     "data": {
      "text/plain": [
       "Age Group\n",
       "<10        77.13\n",
       "10-14      82.78\n",
       "15-19     412.89\n",
       "20-24    1114.06\n",
       "25-29     293.00\n",
       "30-34     214.00\n",
       "35-39     147.67\n",
       "40+        38.24\n",
       "Name: Price, dtype: float64"
      ]
     },
     "metadata": {},
     "execution_count": 398
    }
   ],
   "source": [
    "Total_age_purchase_price_df = Heroes_player_renamed_df.groupby(\"Age Group\")[\"Price\"].sum()\n",
    "Total_age_purchase_price_df"
   ]
  },
  {
   "cell_type": "code",
   "execution_count": 399,
   "metadata": {},
   "outputs": [
    {
     "output_type": "execute_result",
     "data": {
      "text/plain": [
       "Age Group\n",
       "<10      4.537059\n",
       "10-14    3.762727\n",
       "15-19    3.858785\n",
       "20-24    4.318062\n",
       "25-29    3.805195\n",
       "30-34    4.115385\n",
       "35-39    4.763548\n",
       "40+      3.186667\n",
       "dtype: float64"
      ]
     },
     "metadata": {},
     "execution_count": 399
    }
   ],
   "source": [
    "Average_total_age_purchase_df = Total_age_purchase_price_df / Heroes_age_dataframe_df\n",
    "Average_total_age_purchase_df"
   ]
  },
  {
   "cell_type": "code",
   "execution_count": 400,
   "metadata": {},
   "outputs": [
    {
     "output_type": "execute_result",
     "data": {
      "text/plain": [
       "           Purchase Count  Average Purchase Price  Total Purchase Value  \\\n",
       "Age Group                                                                 \n",
       "<10                    23                3.353478                 77.13   \n",
       "10-14                  28                2.956429                 82.78   \n",
       "15-19                 136                3.035956                412.89   \n",
       "20-24                 365                3.052219               1114.06   \n",
       "25-29                 101                2.900990                293.00   \n",
       "30-34                  73                2.931507                214.00   \n",
       "35-39                  41                3.601707                147.67   \n",
       "40+                    13                2.941538                 38.24   \n",
       "\n",
       "           Avg Total Purchase per Person  \n",
       "Age Group                                 \n",
       "<10                             4.537059  \n",
       "10-14                           3.762727  \n",
       "15-19                           3.858785  \n",
       "20-24                           4.318062  \n",
       "25-29                           3.805195  \n",
       "30-34                           4.115385  \n",
       "35-39                           4.763548  \n",
       "40+                             3.186667  "
      ],
      "text/html": "<div>\n<style scoped>\n    .dataframe tbody tr th:only-of-type {\n        vertical-align: middle;\n    }\n\n    .dataframe tbody tr th {\n        vertical-align: top;\n    }\n\n    .dataframe thead th {\n        text-align: right;\n    }\n</style>\n<table border=\"1\" class=\"dataframe\">\n  <thead>\n    <tr style=\"text-align: right;\">\n      <th></th>\n      <th>Purchase Count</th>\n      <th>Average Purchase Price</th>\n      <th>Total Purchase Value</th>\n      <th>Avg Total Purchase per Person</th>\n    </tr>\n    <tr>\n      <th>Age Group</th>\n      <th></th>\n      <th></th>\n      <th></th>\n      <th></th>\n    </tr>\n  </thead>\n  <tbody>\n    <tr>\n      <th>&lt;10</th>\n      <td>23</td>\n      <td>3.353478</td>\n      <td>77.13</td>\n      <td>4.537059</td>\n    </tr>\n    <tr>\n      <th>10-14</th>\n      <td>28</td>\n      <td>2.956429</td>\n      <td>82.78</td>\n      <td>3.762727</td>\n    </tr>\n    <tr>\n      <th>15-19</th>\n      <td>136</td>\n      <td>3.035956</td>\n      <td>412.89</td>\n      <td>3.858785</td>\n    </tr>\n    <tr>\n      <th>20-24</th>\n      <td>365</td>\n      <td>3.052219</td>\n      <td>1114.06</td>\n      <td>4.318062</td>\n    </tr>\n    <tr>\n      <th>25-29</th>\n      <td>101</td>\n      <td>2.900990</td>\n      <td>293.00</td>\n      <td>3.805195</td>\n    </tr>\n    <tr>\n      <th>30-34</th>\n      <td>73</td>\n      <td>2.931507</td>\n      <td>214.00</td>\n      <td>4.115385</td>\n    </tr>\n    <tr>\n      <th>35-39</th>\n      <td>41</td>\n      <td>3.601707</td>\n      <td>147.67</td>\n      <td>4.763548</td>\n    </tr>\n    <tr>\n      <th>40+</th>\n      <td>13</td>\n      <td>2.941538</td>\n      <td>38.24</td>\n      <td>3.186667</td>\n    </tr>\n  </tbody>\n</table>\n</div>"
     },
     "metadata": {},
     "execution_count": 400
    }
   ],
   "source": [
    "Heroes_purchase_age_summary_df = pd.DataFrame({\"Purchase Count\": Heroes_purchase_age_dataframe_df, \"Average Purchase Price\": Average_age_purchase_price_df, \"Total Purchase Value\": Total_age_purchase_price_df, \"Avg Total Purchase per Person\": Average_total_age_purchase_df})\n",
    "Heroes_purchase_age_summary_df"
   ]
  },
  {
   "cell_type": "code",
   "execution_count": 404,
   "metadata": {},
   "outputs": [
    {
     "output_type": "execute_result",
     "data": {
      "text/plain": [
       "     Purchase ID             SN  Age                 Gender  Item ID  \\\n",
       "50            50   Saelaephos52   21                   Male       22   \n",
       "67            67        Lisim78   20                   Male      138   \n",
       "78            78   Haillyrgue51    7                   Male       50   \n",
       "87            87        Aelin32   20                   Male      151   \n",
       "99            99   Haisrisuir60   23                   Male       92   \n",
       "118          118   Pheodaisun84   30                   Male       78   \n",
       "120          120      Lisosia93   25                   Male       24   \n",
       "126          126      Frichim77   24                   Male       75   \n",
       "132          132      Inguron55   23                   Male      145   \n",
       "133          133       Phaena87   20                   Male        0   \n",
       "134          134       Phyali88   15                 Female        2   \n",
       "140          140         Hari50   20                 Female        8   \n",
       "141          141     Zhisrisu83   10                   Male       60   \n",
       "146          146  Aidaillodeu39   18                   Male      133   \n",
       "156          156       Eyrian71   40                   Male      117   \n",
       "161          161          Iri67   20                   Male        3   \n",
       "168          168    Iskjaskst81   20                   Male       85   \n",
       "198          198    Chadolyla44   20                   Male      153   \n",
       "205          205     Jiskimya77   17                   Male      149   \n",
       "210          210     Umolrian85   32                 Female      136   \n",
       "215          215      Ialallo29   15                 Female       40   \n",
       "223          223    Undirrala66   22                   Male      142   \n",
       "224          224      Lisosia93   25                   Male      157   \n",
       "232          232     Sundadar27   31                   Male      114   \n",
       "234          234     Chamimla85   16                   Male       97   \n",
       "245          245        Lisim78   20                   Male       85   \n",
       "247          247    Iskadarya95   20                   Male       82   \n",
       "253          253        Aesty53   21                   Male       28   \n",
       "255          255   Sondastsda82   24                   Male       71   \n",
       "256          256     Chamirra53   23                   Male      182   \n",
       "261          261      Tyeosri53   24                   Male      132   \n",
       "264          264    Saesrideu94   35                   Male      119   \n",
       "266          266        Siala43   30                   Male      113   \n",
       "268          268       Inasti31   17                   Male       71   \n",
       "273          273       Phyali88   15                 Female       92   \n",
       "276          276      Tyidaim51   16                 Female        9   \n",
       "278          278   Iskichinya81   21                 Female      167   \n",
       "291          291      Idairin51   20  Other / Non-Disclosed       35   \n",
       "292          292       Lisasi93   13                   Male       70   \n",
       "293          293     Lisopela58   22                   Male      117   \n",
       "297          297   Heosurnuru52   16                 Female      169   \n",
       "299          299     Lirtossa84   11                   Male      164   \n",
       "305          305    Siallylis44   20                   Male      179   \n",
       "311          311   Anallorgue57    8                   Male       71   \n",
       "315          315       Tyisur83   23                   Male      107   \n",
       "318          318    Iskadarya95   20                   Male       91   \n",
       "319          319      Rarallo90   33                   Male      144   \n",
       "323          323       Tyisur83   23                   Male      131   \n",
       "325          325       Hiasri33   23                   Male       54   \n",
       "343          343  Chadilsasta32   23                   Male       49   \n",
       "\n",
       "                                     Item Name  Price  \n",
       "50                                     Amnesia   2.18  \n",
       "67              Peacekeeper, Wit of Dark Magic   4.74  \n",
       "78                                        Dawn   4.60  \n",
       "87                                   Severance   3.40  \n",
       "99                                Final Critic   4.19  \n",
       "118                 Glimmer, Ender of the Moon   4.40  \n",
       "120                              Warped Fetish   3.81  \n",
       "126                    Brutality Ivory Warmace   2.42  \n",
       "132                       Fiery Glass Crusader   4.58  \n",
       "133                                   Splinter   1.28  \n",
       "134                                    Verdict   2.48  \n",
       "140                   Purgatory, Gem of Regret   3.93  \n",
       "141                                       Wolf   3.54  \n",
       "146                           Faith's Scimitar   4.09  \n",
       "156          Heartstriker, Legacy of the Light   1.79  \n",
       "161                               Phantomlight   2.49  \n",
       "168                             Malificent Bag   1.75  \n",
       "198                            Mercenary Sabre   3.74  \n",
       "205          Tranquility, Razor of Black Magic   1.75  \n",
       "210               Ghastly Adamantite Protector   3.58  \n",
       "215                              Second Chance   2.52  \n",
       "223                            Righteous Might   2.62  \n",
       "224                    Spada, Etcher of Hatred   4.80  \n",
       "232                         Yearning Mageblade   3.82  \n",
       "234                Swan Song, Gouger Of Terror   2.50  \n",
       "245                             Malificent Bag   1.75  \n",
       "247                                    Nirvana   4.90  \n",
       "253           Flux, Destroyer of Due Diligence   1.06  \n",
       "255                                     Demise   1.61  \n",
       "256                                  Toothpick   4.03  \n",
       "261                                 Persuasion   3.19  \n",
       "264  Stormbringer, Dark Blade of Ending Misery   4.32  \n",
       "266                          Solitude's Reaver   4.07  \n",
       "268                                     Demise   1.61  \n",
       "273                               Final Critic   4.88  \n",
       "276          Thorn, Conqueror of the Corrupted   2.73  \n",
       "278                Malice, Legacy of the Queen   3.61  \n",
       "291                   Heartless Bone Dualblade   3.45  \n",
       "292                                 Hope's End   1.03  \n",
       "293          Heartstriker, Legacy of the Light   1.79  \n",
       "297     Interrogator, Blood Blade of the Queen   2.18  \n",
       "299                           Exiled Doomblade   1.63  \n",
       "305            Wolf, Promise of the Moonwalker   4.48  \n",
       "311                                     Demise   1.61  \n",
       "315                  Splitter, Foe Of Subtlety   2.18  \n",
       "318                                    Celeste   4.17  \n",
       "319                     Blood Infused Guardian   1.94  \n",
       "323                                       Fury   1.44  \n",
       "325                            Eternal Cleaver   2.50  \n",
       "343           The Oculus, Token of Lost Worlds   2.96  "
      ],
      "text/html": "<div>\n<style scoped>\n    .dataframe tbody tr th:only-of-type {\n        vertical-align: middle;\n    }\n\n    .dataframe tbody tr th {\n        vertical-align: top;\n    }\n\n    .dataframe thead th {\n        text-align: right;\n    }\n</style>\n<table border=\"1\" class=\"dataframe\">\n  <thead>\n    <tr style=\"text-align: right;\">\n      <th></th>\n      <th>Purchase ID</th>\n      <th>SN</th>\n      <th>Age</th>\n      <th>Gender</th>\n      <th>Item ID</th>\n      <th>Item Name</th>\n      <th>Price</th>\n    </tr>\n  </thead>\n  <tbody>\n    <tr>\n      <th>50</th>\n      <td>50</td>\n      <td>Saelaephos52</td>\n      <td>21</td>\n      <td>Male</td>\n      <td>22</td>\n      <td>Amnesia</td>\n      <td>2.18</td>\n    </tr>\n    <tr>\n      <th>67</th>\n      <td>67</td>\n      <td>Lisim78</td>\n      <td>20</td>\n      <td>Male</td>\n      <td>138</td>\n      <td>Peacekeeper, Wit of Dark Magic</td>\n      <td>4.74</td>\n    </tr>\n    <tr>\n      <th>78</th>\n      <td>78</td>\n      <td>Haillyrgue51</td>\n      <td>7</td>\n      <td>Male</td>\n      <td>50</td>\n      <td>Dawn</td>\n      <td>4.60</td>\n    </tr>\n    <tr>\n      <th>87</th>\n      <td>87</td>\n      <td>Aelin32</td>\n      <td>20</td>\n      <td>Male</td>\n      <td>151</td>\n      <td>Severance</td>\n      <td>3.40</td>\n    </tr>\n    <tr>\n      <th>99</th>\n      <td>99</td>\n      <td>Haisrisuir60</td>\n      <td>23</td>\n      <td>Male</td>\n      <td>92</td>\n      <td>Final Critic</td>\n      <td>4.19</td>\n    </tr>\n    <tr>\n      <th>118</th>\n      <td>118</td>\n      <td>Pheodaisun84</td>\n      <td>30</td>\n      <td>Male</td>\n      <td>78</td>\n      <td>Glimmer, Ender of the Moon</td>\n      <td>4.40</td>\n    </tr>\n    <tr>\n      <th>120</th>\n      <td>120</td>\n      <td>Lisosia93</td>\n      <td>25</td>\n      <td>Male</td>\n      <td>24</td>\n      <td>Warped Fetish</td>\n      <td>3.81</td>\n    </tr>\n    <tr>\n      <th>126</th>\n      <td>126</td>\n      <td>Frichim77</td>\n      <td>24</td>\n      <td>Male</td>\n      <td>75</td>\n      <td>Brutality Ivory Warmace</td>\n      <td>2.42</td>\n    </tr>\n    <tr>\n      <th>132</th>\n      <td>132</td>\n      <td>Inguron55</td>\n      <td>23</td>\n      <td>Male</td>\n      <td>145</td>\n      <td>Fiery Glass Crusader</td>\n      <td>4.58</td>\n    </tr>\n    <tr>\n      <th>133</th>\n      <td>133</td>\n      <td>Phaena87</td>\n      <td>20</td>\n      <td>Male</td>\n      <td>0</td>\n      <td>Splinter</td>\n      <td>1.28</td>\n    </tr>\n    <tr>\n      <th>134</th>\n      <td>134</td>\n      <td>Phyali88</td>\n      <td>15</td>\n      <td>Female</td>\n      <td>2</td>\n      <td>Verdict</td>\n      <td>2.48</td>\n    </tr>\n    <tr>\n      <th>140</th>\n      <td>140</td>\n      <td>Hari50</td>\n      <td>20</td>\n      <td>Female</td>\n      <td>8</td>\n      <td>Purgatory, Gem of Regret</td>\n      <td>3.93</td>\n    </tr>\n    <tr>\n      <th>141</th>\n      <td>141</td>\n      <td>Zhisrisu83</td>\n      <td>10</td>\n      <td>Male</td>\n      <td>60</td>\n      <td>Wolf</td>\n      <td>3.54</td>\n    </tr>\n    <tr>\n      <th>146</th>\n      <td>146</td>\n      <td>Aidaillodeu39</td>\n      <td>18</td>\n      <td>Male</td>\n      <td>133</td>\n      <td>Faith's Scimitar</td>\n      <td>4.09</td>\n    </tr>\n    <tr>\n      <th>156</th>\n      <td>156</td>\n      <td>Eyrian71</td>\n      <td>40</td>\n      <td>Male</td>\n      <td>117</td>\n      <td>Heartstriker, Legacy of the Light</td>\n      <td>1.79</td>\n    </tr>\n    <tr>\n      <th>161</th>\n      <td>161</td>\n      <td>Iri67</td>\n      <td>20</td>\n      <td>Male</td>\n      <td>3</td>\n      <td>Phantomlight</td>\n      <td>2.49</td>\n    </tr>\n    <tr>\n      <th>168</th>\n      <td>168</td>\n      <td>Iskjaskst81</td>\n      <td>20</td>\n      <td>Male</td>\n      <td>85</td>\n      <td>Malificent Bag</td>\n      <td>1.75</td>\n    </tr>\n    <tr>\n      <th>198</th>\n      <td>198</td>\n      <td>Chadolyla44</td>\n      <td>20</td>\n      <td>Male</td>\n      <td>153</td>\n      <td>Mercenary Sabre</td>\n      <td>3.74</td>\n    </tr>\n    <tr>\n      <th>205</th>\n      <td>205</td>\n      <td>Jiskimya77</td>\n      <td>17</td>\n      <td>Male</td>\n      <td>149</td>\n      <td>Tranquility, Razor of Black Magic</td>\n      <td>1.75</td>\n    </tr>\n    <tr>\n      <th>210</th>\n      <td>210</td>\n      <td>Umolrian85</td>\n      <td>32</td>\n      <td>Female</td>\n      <td>136</td>\n      <td>Ghastly Adamantite Protector</td>\n      <td>3.58</td>\n    </tr>\n    <tr>\n      <th>215</th>\n      <td>215</td>\n      <td>Ialallo29</td>\n      <td>15</td>\n      <td>Female</td>\n      <td>40</td>\n      <td>Second Chance</td>\n      <td>2.52</td>\n    </tr>\n    <tr>\n      <th>223</th>\n      <td>223</td>\n      <td>Undirrala66</td>\n      <td>22</td>\n      <td>Male</td>\n      <td>142</td>\n      <td>Righteous Might</td>\n      <td>2.62</td>\n    </tr>\n    <tr>\n      <th>224</th>\n      <td>224</td>\n      <td>Lisosia93</td>\n      <td>25</td>\n      <td>Male</td>\n      <td>157</td>\n      <td>Spada, Etcher of Hatred</td>\n      <td>4.80</td>\n    </tr>\n    <tr>\n      <th>232</th>\n      <td>232</td>\n      <td>Sundadar27</td>\n      <td>31</td>\n      <td>Male</td>\n      <td>114</td>\n      <td>Yearning Mageblade</td>\n      <td>3.82</td>\n    </tr>\n    <tr>\n      <th>234</th>\n      <td>234</td>\n      <td>Chamimla85</td>\n      <td>16</td>\n      <td>Male</td>\n      <td>97</td>\n      <td>Swan Song, Gouger Of Terror</td>\n      <td>2.50</td>\n    </tr>\n    <tr>\n      <th>245</th>\n      <td>245</td>\n      <td>Lisim78</td>\n      <td>20</td>\n      <td>Male</td>\n      <td>85</td>\n      <td>Malificent Bag</td>\n      <td>1.75</td>\n    </tr>\n    <tr>\n      <th>247</th>\n      <td>247</td>\n      <td>Iskadarya95</td>\n      <td>20</td>\n      <td>Male</td>\n      <td>82</td>\n      <td>Nirvana</td>\n      <td>4.90</td>\n    </tr>\n    <tr>\n      <th>253</th>\n      <td>253</td>\n      <td>Aesty53</td>\n      <td>21</td>\n      <td>Male</td>\n      <td>28</td>\n      <td>Flux, Destroyer of Due Diligence</td>\n      <td>1.06</td>\n    </tr>\n    <tr>\n      <th>255</th>\n      <td>255</td>\n      <td>Sondastsda82</td>\n      <td>24</td>\n      <td>Male</td>\n      <td>71</td>\n      <td>Demise</td>\n      <td>1.61</td>\n    </tr>\n    <tr>\n      <th>256</th>\n      <td>256</td>\n      <td>Chamirra53</td>\n      <td>23</td>\n      <td>Male</td>\n      <td>182</td>\n      <td>Toothpick</td>\n      <td>4.03</td>\n    </tr>\n    <tr>\n      <th>261</th>\n      <td>261</td>\n      <td>Tyeosri53</td>\n      <td>24</td>\n      <td>Male</td>\n      <td>132</td>\n      <td>Persuasion</td>\n      <td>3.19</td>\n    </tr>\n    <tr>\n      <th>264</th>\n      <td>264</td>\n      <td>Saesrideu94</td>\n      <td>35</td>\n      <td>Male</td>\n      <td>119</td>\n      <td>Stormbringer, Dark Blade of Ending Misery</td>\n      <td>4.32</td>\n    </tr>\n    <tr>\n      <th>266</th>\n      <td>266</td>\n      <td>Siala43</td>\n      <td>30</td>\n      <td>Male</td>\n      <td>113</td>\n      <td>Solitude's Reaver</td>\n      <td>4.07</td>\n    </tr>\n    <tr>\n      <th>268</th>\n      <td>268</td>\n      <td>Inasti31</td>\n      <td>17</td>\n      <td>Male</td>\n      <td>71</td>\n      <td>Demise</td>\n      <td>1.61</td>\n    </tr>\n    <tr>\n      <th>273</th>\n      <td>273</td>\n      <td>Phyali88</td>\n      <td>15</td>\n      <td>Female</td>\n      <td>92</td>\n      <td>Final Critic</td>\n      <td>4.88</td>\n    </tr>\n    <tr>\n      <th>276</th>\n      <td>276</td>\n      <td>Tyidaim51</td>\n      <td>16</td>\n      <td>Female</td>\n      <td>9</td>\n      <td>Thorn, Conqueror of the Corrupted</td>\n      <td>2.73</td>\n    </tr>\n    <tr>\n      <th>278</th>\n      <td>278</td>\n      <td>Iskichinya81</td>\n      <td>21</td>\n      <td>Female</td>\n      <td>167</td>\n      <td>Malice, Legacy of the Queen</td>\n      <td>3.61</td>\n    </tr>\n    <tr>\n      <th>291</th>\n      <td>291</td>\n      <td>Idairin51</td>\n      <td>20</td>\n      <td>Other / Non-Disclosed</td>\n      <td>35</td>\n      <td>Heartless Bone Dualblade</td>\n      <td>3.45</td>\n    </tr>\n    <tr>\n      <th>292</th>\n      <td>292</td>\n      <td>Lisasi93</td>\n      <td>13</td>\n      <td>Male</td>\n      <td>70</td>\n      <td>Hope's End</td>\n      <td>1.03</td>\n    </tr>\n    <tr>\n      <th>293</th>\n      <td>293</td>\n      <td>Lisopela58</td>\n      <td>22</td>\n      <td>Male</td>\n      <td>117</td>\n      <td>Heartstriker, Legacy of the Light</td>\n      <td>1.79</td>\n    </tr>\n    <tr>\n      <th>297</th>\n      <td>297</td>\n      <td>Heosurnuru52</td>\n      <td>16</td>\n      <td>Female</td>\n      <td>169</td>\n      <td>Interrogator, Blood Blade of the Queen</td>\n      <td>2.18</td>\n    </tr>\n    <tr>\n      <th>299</th>\n      <td>299</td>\n      <td>Lirtossa84</td>\n      <td>11</td>\n      <td>Male</td>\n      <td>164</td>\n      <td>Exiled Doomblade</td>\n      <td>1.63</td>\n    </tr>\n    <tr>\n      <th>305</th>\n      <td>305</td>\n      <td>Siallylis44</td>\n      <td>20</td>\n      <td>Male</td>\n      <td>179</td>\n      <td>Wolf, Promise of the Moonwalker</td>\n      <td>4.48</td>\n    </tr>\n    <tr>\n      <th>311</th>\n      <td>311</td>\n      <td>Anallorgue57</td>\n      <td>8</td>\n      <td>Male</td>\n      <td>71</td>\n      <td>Demise</td>\n      <td>1.61</td>\n    </tr>\n    <tr>\n      <th>315</th>\n      <td>315</td>\n      <td>Tyisur83</td>\n      <td>23</td>\n      <td>Male</td>\n      <td>107</td>\n      <td>Splitter, Foe Of Subtlety</td>\n      <td>2.18</td>\n    </tr>\n    <tr>\n      <th>318</th>\n      <td>318</td>\n      <td>Iskadarya95</td>\n      <td>20</td>\n      <td>Male</td>\n      <td>91</td>\n      <td>Celeste</td>\n      <td>4.17</td>\n    </tr>\n    <tr>\n      <th>319</th>\n      <td>319</td>\n      <td>Rarallo90</td>\n      <td>33</td>\n      <td>Male</td>\n      <td>144</td>\n      <td>Blood Infused Guardian</td>\n      <td>1.94</td>\n    </tr>\n    <tr>\n      <th>323</th>\n      <td>323</td>\n      <td>Tyisur83</td>\n      <td>23</td>\n      <td>Male</td>\n      <td>131</td>\n      <td>Fury</td>\n      <td>1.44</td>\n    </tr>\n    <tr>\n      <th>325</th>\n      <td>325</td>\n      <td>Hiasri33</td>\n      <td>23</td>\n      <td>Male</td>\n      <td>54</td>\n      <td>Eternal Cleaver</td>\n      <td>2.50</td>\n    </tr>\n    <tr>\n      <th>343</th>\n      <td>343</td>\n      <td>Chadilsasta32</td>\n      <td>23</td>\n      <td>Male</td>\n      <td>49</td>\n      <td>The Oculus, Token of Lost Worlds</td>\n      <td>2.96</td>\n    </tr>\n  </tbody>\n</table>\n</div>"
     },
     "metadata": {},
     "execution_count": 404
    }
   ],
   "source": [
    "Heroes_players_duplicates_df = Heroes_df[Heroes_df.duplicated([\"SN\"])]\n",
    "Heroes_players_duplicates_df.head(50)"
   ]
  },
  {
   "cell_type": "code",
   "execution_count": null,
   "metadata": {},
   "outputs": [],
   "source": []
  }
 ]
}